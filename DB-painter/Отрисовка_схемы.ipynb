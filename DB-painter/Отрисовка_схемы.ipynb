{
 "cells": [
  {
   "cell_type": "markdown",
   "id": "3ac6bd21",
   "metadata": {},
   "source": [
    "Если под рукой нет средств для отрисовки структуры базы данных, то можно воспользоваться graphviz.\n",
    "\n",
    "Для этого нужно подготовить excel-файл.\n",
    "\n",
    "- Т1 - название таблицы\n",
    "- С1 - название столбцов таблицы\n",
    "\n",
    "\n",
    "К Т1 и С1 подписываются таблица и столбец (Т2, C2), по которым они соединяются."
   ]
  },
  {
   "cell_type": "code",
   "execution_count": null,
   "id": "dc037724",
   "metadata": {},
   "outputs": [],
   "source": [
    "!pip install graphviz"
   ]
  },
  {
   "cell_type": "code",
   "execution_count": 1,
   "id": "cac55e34",
   "metadata": {
    "id": "cac55e34"
   },
   "outputs": [
    {
     "data": {
      "text/html": [
       "<div>\n",
       "<style scoped>\n",
       "    .dataframe tbody tr th:only-of-type {\n",
       "        vertical-align: middle;\n",
       "    }\n",
       "\n",
       "    .dataframe tbody tr th {\n",
       "        vertical-align: top;\n",
       "    }\n",
       "\n",
       "    .dataframe thead th {\n",
       "        text-align: right;\n",
       "    }\n",
       "</style>\n",
       "<table border=\"1\" class=\"dataframe\">\n",
       "  <thead>\n",
       "    <tr style=\"text-align: right;\">\n",
       "      <th></th>\n",
       "      <th>T1</th>\n",
       "      <th>C1</th>\n",
       "      <th>T2</th>\n",
       "      <th>C2</th>\n",
       "    </tr>\n",
       "  </thead>\n",
       "  <tbody>\n",
       "    <tr>\n",
       "      <th>0</th>\n",
       "      <td>A</td>\n",
       "      <td>fkeyA</td>\n",
       "      <td>NaN</td>\n",
       "      <td>NaN</td>\n",
       "    </tr>\n",
       "    <tr>\n",
       "      <th>1</th>\n",
       "      <td>A</td>\n",
       "      <td>alpha</td>\n",
       "      <td>NaN</td>\n",
       "      <td>NaN</td>\n",
       "    </tr>\n",
       "    <tr>\n",
       "      <th>2</th>\n",
       "      <td>A</td>\n",
       "      <td>beta</td>\n",
       "      <td>NaN</td>\n",
       "      <td>NaN</td>\n",
       "    </tr>\n",
       "    <tr>\n",
       "      <th>3</th>\n",
       "      <td>B</td>\n",
       "      <td>BkeyA</td>\n",
       "      <td>A</td>\n",
       "      <td>fkeyA</td>\n",
       "    </tr>\n",
       "    <tr>\n",
       "      <th>4</th>\n",
       "      <td>B</td>\n",
       "      <td>count</td>\n",
       "      <td>NaN</td>\n",
       "      <td>NaN</td>\n",
       "    </tr>\n",
       "  </tbody>\n",
       "</table>\n",
       "</div>"
      ],
      "text/plain": [
       "  T1     C1   T2     C2\n",
       "0  A  fkeyA  NaN    NaN\n",
       "1  A  alpha  NaN    NaN\n",
       "2  A   beta  NaN    NaN\n",
       "3  B  BkeyA    A  fkeyA\n",
       "4  B  count  NaN    NaN"
      ]
     },
     "execution_count": 1,
     "metadata": {},
     "output_type": "execute_result"
    }
   ],
   "source": [
    "import pandas as pd\n",
    "import warnings\n",
    "import os\n",
    "from graphviz import Digraph\n",
    "\n",
    "#Нужно скачать graphviz с оф сайта\n",
    "os.environ['PATH'] += r';C:\\Users\\Роман\\Downloads\\windows_10_msbuild_Release_graphviz-3.0.0-win32\\Graphviz\\bin'\n",
    "warnings.simplefilter('ignore')\n",
    "\n",
    "\n",
    "df = pd.read_excel(\"1.xlsx\", dtype=str)\n",
    "df.head()"
   ]
  },
  {
   "cell_type": "code",
   "execution_count": 2,
   "id": "71495518",
   "metadata": {
    "id": "71495518"
   },
   "outputs": [],
   "source": [
    "start = '<<table border=\"0\" cellborder=\"1\" cellspacing=\"0\" cellpadding=\"4\">'\n",
    "end = '</table>>'\n",
    "node_table = df.groupby('T1')['C1'].apply(lambda x: ''.join([f'<tr><td port=\"{i}\" align=\"left\">{i}</td></tr>' for i in x]) + end)"
   ]
  },
  {
   "cell_type": "code",
   "execution_count": 3,
   "id": "b377f81b",
   "metadata": {
    "id": "b377f81b"
   },
   "outputs": [],
   "source": [
    "node_table = node_table.to_frame().reset_index().rename(columns={'T1': 'node', 'C1': 'label'})\n",
    "node_table['node'] = node_table['node'].apply(lambda x: '[' + x + ']')\n",
    "node_table['label'] = start + node_table[\"node\"].apply(lambda x: f'<tr><td bgcolor=\"lightblue\">{x}</td></tr>') + node_table['label']"
   ]
  },
  {
   "cell_type": "code",
   "execution_count": 4,
   "id": "41c2fb13",
   "metadata": {
    "id": "41c2fb13",
    "outputId": "cb7cd587-7e03-4062-e02f-91f01175c386"
   },
   "outputs": [],
   "source": [
    "edge_table = df[df['T2'].notna()]\n",
    "edge_table['E1'] = edge_table['T1'].apply(lambda x: '[' + x + ']') + ':' + edge_table['C1']#edge_table['num'].astype(str)\n",
    "edge_table['E2'] = edge_table['T2'].apply(lambda x: '[' + x + ']') + ':' + edge_table['C2']#edge_table['num'].astype(str)\n",
    "edge_table.drop(columns=['T1', 'T2', 'C1', 'C2'], inplace=True)"
   ]
  },
  {
   "cell_type": "code",
   "execution_count": 5,
   "id": "159d20f5",
   "metadata": {
    "id": "159d20f5",
    "outputId": "b44e876a-5900-4829-e855-3febe3690597"
   },
   "outputs": [
    {
     "data": {
      "image/svg+xml": [
       "<?xml version=\"1.0\" encoding=\"UTF-8\" standalone=\"no\"?>\n",
       "<!DOCTYPE svg PUBLIC \"-//W3C//DTD SVG 1.1//EN\"\n",
       " \"http://www.w3.org/Graphics/SVG/1.1/DTD/svg11.dtd\">\n",
       "<!-- Generated by graphviz version 3.0.0 (20220226.1711)\n",
       " -->\n",
       "<!-- Title: structs Pages: 1 -->\n",
       "<svg width=\"318pt\" height=\"218pt\"\n",
       " viewBox=\"0.00 0.00 318.00 217.50\" xmlns=\"http://www.w3.org/2000/svg\" xmlns:xlink=\"http://www.w3.org/1999/xlink\">\n",
       "<g id=\"graph0\" class=\"graph\" transform=\"scale(1 1) rotate(0) translate(4 213.5)\">\n",
       "<title>structs</title>\n",
       "<polygon fill=\"white\" stroke=\"transparent\" points=\"-4,4 -4,-213.5 314,-213.5 314,4 -4,4\"/>\n",
       "<!-- [A] -->\n",
       "<g id=\"node1\" class=\"node\">\n",
       "<title>[A]</title>\n",
       "<polygon fill=\"lightblue\" stroke=\"transparent\" points=\"258,-116.5 258,-141.5 302,-141.5 302,-116.5 258,-116.5\"/>\n",
       "<polygon fill=\"none\" stroke=\"black\" points=\"258,-116.5 258,-141.5 302,-141.5 302,-116.5 258,-116.5\"/>\n",
       "<text text-anchor=\"start\" x=\"270.5\" y=\"-125.3\" font-family=\"Times New Roman,serif\" font-size=\"14.00\">[A]</text>\n",
       "<polygon fill=\"none\" stroke=\"black\" points=\"258,-91.5 258,-116.5 302,-116.5 302,-91.5 258,-91.5\"/>\n",
       "<text text-anchor=\"start\" x=\"263\" y=\"-100.3\" font-family=\"Times New Roman,serif\" font-size=\"14.00\">fkeyA</text>\n",
       "<polygon fill=\"none\" stroke=\"black\" points=\"258,-66.5 258,-91.5 302,-91.5 302,-66.5 258,-66.5\"/>\n",
       "<text text-anchor=\"start\" x=\"263\" y=\"-75.3\" font-family=\"Times New Roman,serif\" font-size=\"14.00\">alpha</text>\n",
       "<polygon fill=\"none\" stroke=\"black\" points=\"258,-41.5 258,-66.5 302,-66.5 302,-41.5 258,-41.5\"/>\n",
       "<text text-anchor=\"start\" x=\"263\" y=\"-50.3\" font-family=\"Times New Roman,serif\" font-size=\"14.00\">beta</text>\n",
       "</g>\n",
       "<!-- [B] -->\n",
       "<g id=\"node2\" class=\"node\">\n",
       "<title>[B]</title>\n",
       "<polygon fill=\"lightblue\" stroke=\"transparent\" points=\"9,-180.5 9,-205.5 58,-205.5 58,-180.5 9,-180.5\"/>\n",
       "<polygon fill=\"none\" stroke=\"black\" points=\"9,-180.5 9,-205.5 58,-205.5 58,-180.5 9,-180.5\"/>\n",
       "<text text-anchor=\"start\" x=\"24\" y=\"-189.3\" font-family=\"Times New Roman,serif\" font-size=\"14.00\">[B]</text>\n",
       "<polygon fill=\"none\" stroke=\"black\" points=\"9,-155.5 9,-180.5 58,-180.5 58,-155.5 9,-155.5\"/>\n",
       "<text text-anchor=\"start\" x=\"14\" y=\"-164.3\" font-family=\"Times New Roman,serif\" font-size=\"14.00\">BkeyA</text>\n",
       "<polygon fill=\"none\" stroke=\"black\" points=\"9,-130.5 9,-155.5 58,-155.5 58,-130.5 9,-130.5\"/>\n",
       "<text text-anchor=\"start\" x=\"14\" y=\"-139.3\" font-family=\"Times New Roman,serif\" font-size=\"14.00\">count</text>\n",
       "<polygon fill=\"none\" stroke=\"black\" points=\"9,-105.5 9,-130.5 58,-130.5 58,-105.5 9,-105.5\"/>\n",
       "<text text-anchor=\"start\" x=\"14\" y=\"-114.3\" font-family=\"Times New Roman,serif\" font-size=\"14.00\">email</text>\n",
       "</g>\n",
       "<!-- [B]&#45;&gt;[A] -->\n",
       "<g id=\"edge1\" class=\"edge\">\n",
       "<title>[B]:BkeyA&#45;&gt;[A]:fkeyA</title>\n",
       "<path fill=\"none\" stroke=\"black\" d=\"M59,-168.5C94.56,-168.5 103.44,-168.5 139,-168.5 139,-168.5 139,-168.5 177,-168.5 218.8,-168.5 212.9,-114.57 246.87,-105.72\"/>\n",
       "<polygon fill=\"black\" stroke=\"black\" points=\"247.49,-109.17 257,-104.5 246.65,-102.22 247.49,-109.17\"/>\n",
       "</g>\n",
       "<!-- [C] -->\n",
       "<g id=\"node3\" class=\"node\">\n",
       "<title>[C]</title>\n",
       "<polygon fill=\"lightblue\" stroke=\"transparent\" points=\"8,-53.5 8,-78.5 58,-78.5 58,-53.5 8,-53.5\"/>\n",
       "<polygon fill=\"none\" stroke=\"black\" points=\"8,-53.5 8,-78.5 58,-78.5 58,-53.5 8,-53.5\"/>\n",
       "<text text-anchor=\"start\" x=\"23.5\" y=\"-62.3\" font-family=\"Times New Roman,serif\" font-size=\"14.00\">[C]</text>\n",
       "<polygon fill=\"none\" stroke=\"black\" points=\"8,-28.5 8,-53.5 58,-53.5 58,-28.5 8,-28.5\"/>\n",
       "<text text-anchor=\"start\" x=\"13\" y=\"-37.3\" font-family=\"Times New Roman,serif\" font-size=\"14.00\">CkeyA</text>\n",
       "<polygon fill=\"none\" stroke=\"black\" points=\"8,-3.5 8,-28.5 58,-28.5 58,-3.5 8,-3.5\"/>\n",
       "<text text-anchor=\"start\" x=\"13\" y=\"-12.3\" font-family=\"Times New Roman,serif\" font-size=\"14.00\">value</text>\n",
       "</g>\n",
       "<!-- [C]&#45;&gt;[A] -->\n",
       "<g id=\"edge2\" class=\"edge\">\n",
       "<title>[C]:CkeyA&#45;&gt;[A]:fkeyA</title>\n",
       "<path fill=\"none\" stroke=\"black\" d=\"M59,-40.5C94.56,-40.5 103.44,-40.5 139,-40.5 139,-40.5 139,-40.5 177,-40.5 218.8,-40.5 212.9,-94.43 246.87,-103.28\"/>\n",
       "<polygon fill=\"black\" stroke=\"black\" points=\"246.65,-106.78 257,-104.5 247.49,-99.83 246.65,-106.78\"/>\n",
       "</g>\n",
       "</g>\n",
       "</svg>\n"
      ],
      "text/plain": [
       "<graphviz.graphs.Digraph at 0x2957384e130>"
      ]
     },
     "execution_count": 5,
     "metadata": {},
     "output_type": "execute_result"
    }
   ],
   "source": [
    "#отрисовка\n",
    "g=Digraph('structs',format='png')\n",
    "g.attr(rankdir=\"LR\", overlap=\"false\", splines=\"true\")\n",
    "g.attr('node', shape='plaintext')\n",
    "g.attr(size='100')\n",
    "\n",
    "for _, row in node_table.iterrows():\n",
    "    node_ = row['node']\n",
    "    node_label = row['label']\n",
    "    g.node(node_,label=node_label)\n",
    "    \n",
    "for _, row in edge_table.iterrows():\n",
    "    edge1 = row['E1']\n",
    "    edge2 = row['E2']\n",
    "    g.edge(edge1,edge2, minlen='5')\n",
    "\n",
    "g"
   ]
  },
  {
   "cell_type": "code",
   "execution_count": null,
   "id": "3ea27ab7",
   "metadata": {},
   "outputs": [],
   "source": []
  }
 ],
 "metadata": {
  "colab": {
   "name": "Отрисовка схемы.ipynb",
   "provenance": []
  },
  "kernelspec": {
   "display_name": "Python 3 (ipykernel)",
   "language": "python",
   "name": "python3"
  },
  "language_info": {
   "codemirror_mode": {
    "name": "ipython",
    "version": 3
   },
   "file_extension": ".py",
   "mimetype": "text/x-python",
   "name": "python",
   "nbconvert_exporter": "python",
   "pygments_lexer": "ipython3",
   "version": "3.9.7"
  }
 },
 "nbformat": 4,
 "nbformat_minor": 5
}
