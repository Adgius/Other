{
 "cells": [
  {
   "cell_type": "code",
   "execution_count": 34,
   "metadata": {},
   "outputs": [],
   "source": [
    "import pandas as pd\n",
    "import numpy as np\n",
    "import matplotlib.pyplot as plt\n",
    "import seaborn as sns\n",
    "import scipy.stats as stat"
   ]
  },
  {
   "cell_type": "code",
   "execution_count": 53,
   "metadata": {},
   "outputs": [],
   "source": [
    "df = pd.read_csv(r'C:\\Users\\Пажилой биофизик\\Downloads\\df-chelyaba.csv', encoding = 'windows-1251')\n",
    "df = df.iloc[:,1:]\n",
    "df['Название.услуги'] = df['Название.услуги'].map({'Иммуноглобулины класса G к вирусу SARS-CoV-2 (Covid-19) методом ИФА (ЗАО \"ВекторБест\")': 'IgG',\n",
    "                           'Иммуноглобулины класса М к вирусу SARS-CoV-2 (Covid-19) методом ИФА (ЗАО \"ВекторБест\")': 'IgM',\n",
    "                           'Иммуноглобулины класса G к вирусу SARS-CoV-2 (Covid-19) методом ИФА (ЗАО \"ВекторБест\")  и  Иммуноглобулины класса М к вирусу SARS-CoV-2 (Covid-19) методом ИФА (ЗАО \"ВекторБест\")': 'IgM+IgG'})"
   ]
  },
  {
   "cell_type": "code",
   "execution_count": 54,
   "metadata": {
    "scrolled": true
   },
   "outputs": [],
   "source": [
    "df = df[['Пол','Возраст', 'Название.услуги', 'IgM', 'IgG', 'Позиция', 'Результат.ПЦР.при.наличии.в.эту.дату']]\n",
    "df = df.rename({'Результат.ПЦР.при.наличии.в.эту.дату': 'ПЦР'}, axis=1)"
   ]
  },
  {
   "cell_type": "code",
   "execution_count": 50,
   "metadata": {},
   "outputs": [
    {
     "data": {
      "text/html": [
       "<div>\n",
       "<style scoped>\n",
       "    .dataframe tbody tr th:only-of-type {\n",
       "        vertical-align: middle;\n",
       "    }\n",
       "\n",
       "    .dataframe tbody tr th {\n",
       "        vertical-align: top;\n",
       "    }\n",
       "\n",
       "    .dataframe thead th {\n",
       "        text-align: right;\n",
       "    }\n",
       "</style>\n",
       "<table border=\"1\" class=\"dataframe\">\n",
       "  <thead>\n",
       "    <tr style=\"text-align: right;\">\n",
       "      <th></th>\n",
       "      <th>Пол</th>\n",
       "      <th>Возраст</th>\n",
       "      <th>Название.услуги</th>\n",
       "      <th>IgM</th>\n",
       "      <th>IgG</th>\n",
       "      <th>Позиция</th>\n",
       "      <th>ПЦР</th>\n",
       "      <th>IgM_реф</th>\n",
       "      <th>IgG_реф</th>\n",
       "    </tr>\n",
       "  </thead>\n",
       "  <tbody>\n",
       "    <tr>\n",
       "      <th>0</th>\n",
       "      <td>мужской</td>\n",
       "      <td>51.0</td>\n",
       "      <td>IgM+IgG</td>\n",
       "      <td>0.129</td>\n",
       "      <td>0.073</td>\n",
       "      <td>ЧЛ</td>\n",
       "      <td>NaN</td>\n",
       "      <td>False</td>\n",
       "      <td>False</td>\n",
       "    </tr>\n",
       "    <tr>\n",
       "      <th>1</th>\n",
       "      <td>женский</td>\n",
       "      <td>48.0</td>\n",
       "      <td>IgM+IgG</td>\n",
       "      <td>5.800</td>\n",
       "      <td>12.800</td>\n",
       "      <td>ЧЛ</td>\n",
       "      <td>NaN</td>\n",
       "      <td>True</td>\n",
       "      <td>True</td>\n",
       "    </tr>\n",
       "    <tr>\n",
       "      <th>2</th>\n",
       "      <td>мужской</td>\n",
       "      <td>33.0</td>\n",
       "      <td>IgM+IgG</td>\n",
       "      <td>0.218</td>\n",
       "      <td>0.065</td>\n",
       "      <td>ЧЛ</td>\n",
       "      <td>NaN</td>\n",
       "      <td>False</td>\n",
       "      <td>False</td>\n",
       "    </tr>\n",
       "    <tr>\n",
       "      <th>3</th>\n",
       "      <td>женский</td>\n",
       "      <td>39.0</td>\n",
       "      <td>IgM+IgG</td>\n",
       "      <td>0.132</td>\n",
       "      <td>0.136</td>\n",
       "      <td>ЧЛ</td>\n",
       "      <td>NaN</td>\n",
       "      <td>False</td>\n",
       "      <td>False</td>\n",
       "    </tr>\n",
       "    <tr>\n",
       "      <th>4</th>\n",
       "      <td>мужской</td>\n",
       "      <td>48.0</td>\n",
       "      <td>IgM+IgG</td>\n",
       "      <td>0.133</td>\n",
       "      <td>0.080</td>\n",
       "      <td>ЧЛ</td>\n",
       "      <td>NaN</td>\n",
       "      <td>False</td>\n",
       "      <td>False</td>\n",
       "    </tr>\n",
       "  </tbody>\n",
       "</table>\n",
       "</div>"
      ],
      "text/plain": [
       "       Пол  Возраст Название.услуги    IgM     IgG Позиция  ПЦР IgM_реф  \\\n",
       "0  мужской     51.0         IgM+IgG  0.129   0.073      ЧЛ  NaN   False   \n",
       "1  женский     48.0         IgM+IgG  5.800  12.800      ЧЛ  NaN    True   \n",
       "2  мужской     33.0         IgM+IgG  0.218   0.065      ЧЛ  NaN   False   \n",
       "3  женский     39.0         IgM+IgG  0.132   0.136      ЧЛ  NaN   False   \n",
       "4  мужской     48.0         IgM+IgG  0.133   0.080      ЧЛ  NaN   False   \n",
       "\n",
       "  IgG_реф  \n",
       "0   False  \n",
       "1    True  \n",
       "2   False  \n",
       "3   False  \n",
       "4   False  "
      ]
     },
     "execution_count": 50,
     "metadata": {},
     "output_type": "execute_result"
    }
   ],
   "source": [
    "df.head()"
   ]
  },
  {
   "cell_type": "code",
   "execution_count": 48,
   "metadata": {},
   "outputs": [],
   "source": [
    "def f(x):\n",
    "    if pd.isna(x):\n",
    "        return np.nan\n",
    "    else:\n",
    "        return np.where(x > 0.8, np.where(x > 1.1, 'Обнаружено', 'Сомнительно'), 'Не обнаружено')\n",
    "    \n",
    "def se(x):\n",
    "    se = '± ' + str(round(1.96 * np.std(x)/np.sqrt(len(x)), 2))\n",
    "    return se\n",
    "\n",
    "def N(x):\n",
    "    return len(x.dropna())"
   ]
  },
  {
   "cell_type": "code",
   "execution_count": 49,
   "metadata": {},
   "outputs": [],
   "source": [
    "df['IgM_реф'] = df['IgM'].apply(f).map({'Обнаружено': True, 'Не обнаружено': False})\n",
    "df['IgG_реф'] = df['IgG'].apply(f).map({'Обнаружено': True, 'Не обнаружено': False})"
   ]
  },
  {
   "cell_type": "code",
   "execution_count": 40,
   "metadata": {},
   "outputs": [
    {
     "data": {
      "text/plain": [
       "(1783, 10)"
      ]
     },
     "execution_count": 40,
     "metadata": {},
     "output_type": "execute_result"
    }
   ],
   "source": [
    "df['Ser'] = np.any((df['IgM_реф'] == 'Обнаружено', df['IgG_реф'] == 'Обнаружено'), axis=0)\n",
    "df = df[df['Название.услуги'] == 'IgM+IgG']\n",
    "df.shape"
   ]
  },
  {
   "cell_type": "code",
   "execution_count": 41,
   "metadata": {},
   "outputs": [],
   "source": [
    "df['IgG+IgM'] = np.all((df['IgM_реф'], df['IgG_реф']), axis=0)"
   ]
  },
  {
   "cell_type": "markdown",
   "metadata": {},
   "source": [
    "# Иммуноглобулины класса G к вирусу SARS-CoV-2 (Covid-19) методом ИФА (ЗАО \"ВекторБест\") \t"
   ]
  },
  {
   "cell_type": "code",
   "execution_count": 44,
   "metadata": {},
   "outputs": [
    {
     "data": {
      "text/html": [
       "<div>\n",
       "<style scoped>\n",
       "    .dataframe tbody tr th:only-of-type {\n",
       "        vertical-align: middle;\n",
       "    }\n",
       "\n",
       "    .dataframe tbody tr th {\n",
       "        vertical-align: top;\n",
       "    }\n",
       "\n",
       "    .dataframe thead th {\n",
       "        text-align: right;\n",
       "    }\n",
       "</style>\n",
       "<table border=\"1\" class=\"dataframe\">\n",
       "  <thead>\n",
       "    <tr style=\"text-align: right;\">\n",
       "      <th></th>\n",
       "      <th></th>\n",
       "      <th>N</th>\n",
       "      <th>Seroprevalence</th>\n",
       "      <th>Seroprevalence_percent</th>\n",
       "    </tr>\n",
       "    <tr>\n",
       "      <th>Позиция</th>\n",
       "      <th>Пол</th>\n",
       "      <th></th>\n",
       "      <th></th>\n",
       "      <th></th>\n",
       "    </tr>\n",
       "  </thead>\n",
       "  <tbody>\n",
       "    <tr>\n",
       "      <th rowspan=\"2\" valign=\"top\">П</th>\n",
       "      <th>женский</th>\n",
       "      <td>310</td>\n",
       "      <td>310</td>\n",
       "      <td>False</td>\n",
       "    </tr>\n",
       "    <tr>\n",
       "      <th>мужской</th>\n",
       "      <td>781</td>\n",
       "      <td>781</td>\n",
       "      <td>False</td>\n",
       "    </tr>\n",
       "    <tr>\n",
       "      <th rowspan=\"2\" valign=\"top\">ЧЛ</th>\n",
       "      <th>женский</th>\n",
       "      <td>372</td>\n",
       "      <td>372</td>\n",
       "      <td>False</td>\n",
       "    </tr>\n",
       "    <tr>\n",
       "      <th>мужской</th>\n",
       "      <td>320</td>\n",
       "      <td>320</td>\n",
       "      <td>False</td>\n",
       "    </tr>\n",
       "  </tbody>\n",
       "</table>\n",
       "</div>"
      ],
      "text/plain": [
       "                   N  Seroprevalence  Seroprevalence_percent\n",
       "Позиция Пол                                                 \n",
       "П       женский  310             310                   False\n",
       "        мужской  781             781                   False\n",
       "ЧЛ      женский  372             372                   False\n",
       "        мужской  320             320                   False"
      ]
     },
     "execution_count": 44,
     "metadata": {},
     "output_type": "execute_result"
    }
   ],
   "source": [
    "df.groupby(['Позиция','Пол']).agg(N  = ('Пол', N),\n",
    "                                  Seroprevalence = ('Ser', 'count'), \n",
    "                                  Seroprevalence_percent = ('Ser', lambda x: round(x.sum()/N(x), 2)))"
   ]
  },
  {
   "cell_type": "code",
   "execution_count": 31,
   "metadata": {},
   "outputs": [
    {
     "data": {
      "text/plain": [
       "0.28379136287156476"
      ]
     },
     "execution_count": 31,
     "metadata": {},
     "output_type": "execute_result"
    }
   ],
   "source": [
    "df['Ser'].sum()/len(df['Ser'])"
   ]
  },
  {
   "cell_type": "code",
   "execution_count": 9,
   "metadata": {},
   "outputs": [
    {
     "data": {
      "text/plain": [
       "506"
      ]
     },
     "execution_count": 9,
     "metadata": {},
     "output_type": "execute_result"
    }
   ],
   "source": [
    "df['Ser'].sum()"
   ]
  },
  {
   "cell_type": "code",
   "execution_count": 8,
   "metadata": {},
   "outputs": [
    {
     "data": {
      "text/html": [
       "<div>\n",
       "<style scoped>\n",
       "    .dataframe tbody tr th:only-of-type {\n",
       "        vertical-align: middle;\n",
       "    }\n",
       "\n",
       "    .dataframe tbody tr th {\n",
       "        vertical-align: top;\n",
       "    }\n",
       "\n",
       "    .dataframe thead th {\n",
       "        text-align: right;\n",
       "    }\n",
       "</style>\n",
       "<table border=\"1\" class=\"dataframe\">\n",
       "  <thead>\n",
       "    <tr style=\"text-align: right;\">\n",
       "      <th></th>\n",
       "      <th>N</th>\n",
       "      <th>Seroprevalence</th>\n",
       "      <th>Seroprevalence_percent</th>\n",
       "    </tr>\n",
       "    <tr>\n",
       "      <th>Пол</th>\n",
       "      <th></th>\n",
       "      <th></th>\n",
       "      <th></th>\n",
       "    </tr>\n",
       "  </thead>\n",
       "  <tbody>\n",
       "    <tr>\n",
       "      <th>женский</th>\n",
       "      <td>682</td>\n",
       "      <td>254</td>\n",
       "      <td>0.3724</td>\n",
       "    </tr>\n",
       "    <tr>\n",
       "      <th>мужской</th>\n",
       "      <td>1101</td>\n",
       "      <td>252</td>\n",
       "      <td>0.2289</td>\n",
       "    </tr>\n",
       "  </tbody>\n",
       "</table>\n",
       "</div>"
      ],
      "text/plain": [
       "            N  Seroprevalence  Seroprevalence_percent\n",
       "Пол                                                  \n",
       "женский   682             254                  0.3724\n",
       "мужской  1101             252                  0.2289"
      ]
     },
     "execution_count": 8,
     "metadata": {},
     "output_type": "execute_result"
    }
   ],
   "source": [
    "df.groupby(['Пол']).agg(N  = ('Пол', N),\n",
    "                                  Seroprevalence = ('Ser', lambda x: x.sum()), \n",
    "                                  Seroprevalence_percent = ('Ser', lambda x: round(x.sum()/N(x), 4)))"
   ]
  },
  {
   "cell_type": "code",
   "execution_count": 36,
   "metadata": {
    "scrolled": true
   },
   "outputs": [
    {
     "data": {
      "text/html": [
       "<div>\n",
       "<style scoped>\n",
       "    .dataframe tbody tr th:only-of-type {\n",
       "        vertical-align: middle;\n",
       "    }\n",
       "\n",
       "    .dataframe tbody tr th {\n",
       "        vertical-align: top;\n",
       "    }\n",
       "\n",
       "    .dataframe thead th {\n",
       "        text-align: right;\n",
       "    }\n",
       "</style>\n",
       "<table border=\"1\" class=\"dataframe\">\n",
       "  <thead>\n",
       "    <tr style=\"text-align: right;\">\n",
       "      <th></th>\n",
       "      <th>N</th>\n",
       "      <th>Seroprevalence</th>\n",
       "      <th>Seroprevalence_percent</th>\n",
       "      <th>IgG</th>\n",
       "      <th>IgG_percent</th>\n",
       "      <th>IgM</th>\n",
       "      <th>IgM_percent</th>\n",
       "      <th>IgM_IgG</th>\n",
       "      <th>IgM_IgG_percent</th>\n",
       "      <th>doubtful</th>\n",
       "    </tr>\n",
       "    <tr>\n",
       "      <th>Позиция</th>\n",
       "      <th></th>\n",
       "      <th></th>\n",
       "      <th></th>\n",
       "      <th></th>\n",
       "      <th></th>\n",
       "      <th></th>\n",
       "      <th></th>\n",
       "      <th></th>\n",
       "      <th></th>\n",
       "      <th></th>\n",
       "    </tr>\n",
       "  </thead>\n",
       "  <tbody>\n",
       "    <tr>\n",
       "      <th>П</th>\n",
       "      <td>1091</td>\n",
       "      <td>188</td>\n",
       "      <td>0.1723</td>\n",
       "      <td>1.878833</td>\n",
       "      <td>0.1496</td>\n",
       "      <td>0.873246</td>\n",
       "      <td>0.1285</td>\n",
       "      <td>117</td>\n",
       "      <td>0.1077</td>\n",
       "      <td>5</td>\n",
       "    </tr>\n",
       "    <tr>\n",
       "      <th>ЧЛ</th>\n",
       "      <td>692</td>\n",
       "      <td>318</td>\n",
       "      <td>0.4595</td>\n",
       "      <td>5.203201</td>\n",
       "      <td>0.4202</td>\n",
       "      <td>2.728855</td>\n",
       "      <td>0.3816</td>\n",
       "      <td>247</td>\n",
       "      <td>0.3601</td>\n",
       "      <td>6</td>\n",
       "    </tr>\n",
       "  </tbody>\n",
       "</table>\n",
       "</div>"
      ],
      "text/plain": [
       "            N  Seroprevalence  Seroprevalence_percent       IgG  IgG_percent  \\\n",
       "Позиция                                                                        \n",
       "П        1091             188                  0.1723  1.878833       0.1496   \n",
       "ЧЛ        692             318                  0.4595  5.203201       0.4202   \n",
       "\n",
       "              IgM  IgM_percent  IgM_IgG  IgM_IgG_percent  doubtful  \n",
       "Позиция                                                             \n",
       "П        0.873246       0.1285      117           0.1077         5  \n",
       "ЧЛ       2.728855       0.3816      247           0.3601         6  "
      ]
     },
     "execution_count": 36,
     "metadata": {},
     "output_type": "execute_result"
    }
   ],
   "source": [
    "df.groupby(['Позиция']).agg(N  = ('Позиция', N),\n",
    "                            Seroprevalence = ('Ser', lambda x: x.sum()), \n",
    "                            Seroprevalence_percent = ('Ser', lambda x: round(x.sum()/N(x), 4)),\n",
    "                            IgG = ('IgG', np.mean),\n",
    "                            IgG_percent = ('IgG_реф', lambda x: round(x.sum()/N(x), 4)),\n",
    "                            IgM = ('IgM', np.mean),\n",
    "                            IgM_percent = ('IgM_реф', lambda x: round(x.sum()/N(x), 4)),\n",
    "                            IgM_IgG = ('IgG+IgM', lambda x: x.sum()),\n",
    "                            IgM_IgG_percent = ('IgG+IgM',lambda x: round(x.sum()/N(x), 4)),\n",
    "                            doubtful = ('IgG+IgM', lambda x: pd.isnull(x).sum()))"
   ]
  },
  {
   "cell_type": "code",
   "execution_count": 11,
   "metadata": {},
   "outputs": [
    {
     "data": {
      "text/html": [
       "<div>\n",
       "<style scoped>\n",
       "    .dataframe tbody tr th:only-of-type {\n",
       "        vertical-align: middle;\n",
       "    }\n",
       "\n",
       "    .dataframe tbody tr th {\n",
       "        vertical-align: top;\n",
       "    }\n",
       "\n",
       "    .dataframe thead th {\n",
       "        text-align: right;\n",
       "    }\n",
       "</style>\n",
       "<table border=\"1\" class=\"dataframe\">\n",
       "  <thead>\n",
       "    <tr style=\"text-align: right;\">\n",
       "      <th></th>\n",
       "      <th></th>\n",
       "      <th>IgG</th>\n",
       "      <th>IgM</th>\n",
       "    </tr>\n",
       "    <tr>\n",
       "      <th>Позиция</th>\n",
       "      <th>Пол</th>\n",
       "      <th></th>\n",
       "      <th></th>\n",
       "    </tr>\n",
       "  </thead>\n",
       "  <tbody>\n",
       "    <tr>\n",
       "      <th rowspan=\"2\" valign=\"top\">П</th>\n",
       "      <th>женский</th>\n",
       "      <td>2.902194</td>\n",
       "      <td>1.224232</td>\n",
       "    </tr>\n",
       "    <tr>\n",
       "      <th>мужской</th>\n",
       "      <td>1.472634</td>\n",
       "      <td>0.733930</td>\n",
       "    </tr>\n",
       "    <tr>\n",
       "      <th rowspan=\"2\" valign=\"top\">ЧЛ</th>\n",
       "      <th>женский</th>\n",
       "      <td>5.609051</td>\n",
       "      <td>2.478228</td>\n",
       "    </tr>\n",
       "    <tr>\n",
       "      <th>мужской</th>\n",
       "      <td>4.731400</td>\n",
       "      <td>3.020209</td>\n",
       "    </tr>\n",
       "  </tbody>\n",
       "</table>\n",
       "</div>"
      ],
      "text/plain": [
       "                      IgG       IgM\n",
       "Позиция Пол                        \n",
       "П       женский  2.902194  1.224232\n",
       "        мужской  1.472634  0.733930\n",
       "ЧЛ      женский  5.609051  2.478228\n",
       "        мужской  4.731400  3.020209"
      ]
     },
     "execution_count": 11,
     "metadata": {},
     "output_type": "execute_result"
    }
   ],
   "source": [
    "df.groupby(['Позиция','Пол']).agg(IgG = ('IgG', 'mean'), \n",
    "                                  IgM = ('IgM', 'mean'),)"
   ]
  },
  {
   "cell_type": "code",
   "execution_count": 12,
   "metadata": {},
   "outputs": [],
   "source": [
    "df1 = df[df['Название.услуги'] == 'IgG']\n",
    "df1 = df1.drop(['IgM', 'IgM_реф'], axis =1)"
   ]
  },
  {
   "cell_type": "code",
   "execution_count": 9,
   "metadata": {
    "scrolled": true
   },
   "outputs": [
    {
     "data": {
      "text/plain": [
       "Series([], Name: IgG_реф, dtype: int64)"
      ]
     },
     "execution_count": 9,
     "metadata": {},
     "output_type": "execute_result"
    }
   ],
   "source": [
    "df1['IgG_реф'].value_counts()"
   ]
  },
  {
   "cell_type": "code",
   "execution_count": 27,
   "metadata": {},
   "outputs": [
    {
     "data": {
      "text/html": [
       "<div>\n",
       "<style scoped>\n",
       "    .dataframe tbody tr th:only-of-type {\n",
       "        vertical-align: middle;\n",
       "    }\n",
       "\n",
       "    .dataframe tbody tr th {\n",
       "        vertical-align: top;\n",
       "    }\n",
       "\n",
       "    .dataframe thead th {\n",
       "        text-align: right;\n",
       "    }\n",
       "</style>\n",
       "<table border=\"1\" class=\"dataframe\">\n",
       "  <thead>\n",
       "    <tr style=\"text-align: right;\">\n",
       "      <th></th>\n",
       "      <th>Возраст</th>\n",
       "      <th>sd</th>\n",
       "      <th>se</th>\n",
       "      <th>N</th>\n",
       "    </tr>\n",
       "    <tr>\n",
       "      <th>IgG_реф</th>\n",
       "      <th></th>\n",
       "      <th></th>\n",
       "      <th></th>\n",
       "      <th></th>\n",
       "    </tr>\n",
       "  </thead>\n",
       "  <tbody>\n",
       "    <tr>\n",
       "      <th>Не обнаружено</th>\n",
       "      <td>45.612245</td>\n",
       "      <td>14.799798</td>\n",
       "      <td>± 4.1</td>\n",
       "      <td>49.0</td>\n",
       "    </tr>\n",
       "    <tr>\n",
       "      <th>Обнаружено</th>\n",
       "      <td>42.018349</td>\n",
       "      <td>13.161378</td>\n",
       "      <td>± 2.45</td>\n",
       "      <td>109.0</td>\n",
       "    </tr>\n",
       "    <tr>\n",
       "      <th>Сомнительно</th>\n",
       "      <td>57.000000</td>\n",
       "      <td>NaN</td>\n",
       "      <td>± 0.0</td>\n",
       "      <td>1.0</td>\n",
       "    </tr>\n",
       "  </tbody>\n",
       "</table>\n",
       "</div>"
      ],
      "text/plain": [
       "                 Возраст         sd      se      N\n",
       "IgG_реф                                           \n",
       "Не обнаружено  45.612245  14.799798   ± 4.1   49.0\n",
       "Обнаружено     42.018349  13.161378  ± 2.45  109.0\n",
       "Сомнительно    57.000000        NaN   ± 0.0    1.0"
      ]
     },
     "execution_count": 27,
     "metadata": {},
     "output_type": "execute_result"
    }
   ],
   "source": [
    "df1.groupby('IgG_реф').agg(Возраст = ('Возраст', np.mean),\n",
    "                           sd = ('Возраст', np.std),\n",
    "                           se  = ('Возраст', se),\n",
    "                            N  = ('Возраст', N))"
   ]
  },
  {
   "cell_type": "code",
   "execution_count": 12,
   "metadata": {},
   "outputs": [
    {
     "data": {
      "text/html": [
       "<div>\n",
       "<style scoped>\n",
       "    .dataframe tbody tr th:only-of-type {\n",
       "        vertical-align: middle;\n",
       "    }\n",
       "\n",
       "    .dataframe tbody tr th {\n",
       "        vertical-align: top;\n",
       "    }\n",
       "\n",
       "    .dataframe thead th {\n",
       "        text-align: right;\n",
       "    }\n",
       "</style>\n",
       "<table border=\"1\" class=\"dataframe\">\n",
       "  <thead>\n",
       "    <tr style=\"text-align: right;\">\n",
       "      <th></th>\n",
       "      <th></th>\n",
       "      <th>N</th>\n",
       "    </tr>\n",
       "    <tr>\n",
       "      <th>IgG_реф</th>\n",
       "      <th>Пол</th>\n",
       "      <th></th>\n",
       "    </tr>\n",
       "  </thead>\n",
       "  <tbody>\n",
       "    <tr>\n",
       "      <th rowspan=\"2\" valign=\"top\">Не обнаружено</th>\n",
       "      <th>женский</th>\n",
       "      <td>38</td>\n",
       "    </tr>\n",
       "    <tr>\n",
       "      <th>мужской</th>\n",
       "      <td>11</td>\n",
       "    </tr>\n",
       "    <tr>\n",
       "      <th rowspan=\"2\" valign=\"top\">Обнаружено</th>\n",
       "      <th>женский</th>\n",
       "      <td>76</td>\n",
       "    </tr>\n",
       "    <tr>\n",
       "      <th>мужской</th>\n",
       "      <td>34</td>\n",
       "    </tr>\n",
       "    <tr>\n",
       "      <th>Сомнительно</th>\n",
       "      <th>женский</th>\n",
       "      <td>1</td>\n",
       "    </tr>\n",
       "  </tbody>\n",
       "</table>\n",
       "</div>"
      ],
      "text/plain": [
       "                        N\n",
       "IgG_реф       Пол        \n",
       "Не обнаружено женский  38\n",
       "              мужской  11\n",
       "Обнаружено    женский  76\n",
       "              мужской  34\n",
       "Сомнительно   женский   1"
      ]
     },
     "execution_count": 12,
     "metadata": {},
     "output_type": "execute_result"
    }
   ],
   "source": [
    "df1.groupby(['IgG_реф', 'Пол']).agg(N  = ('Пол', N))"
   ]
  },
  {
   "cell_type": "code",
   "execution_count": 29,
   "metadata": {},
   "outputs": [
    {
     "data": {
      "text/html": [
       "<div>\n",
       "<style scoped>\n",
       "    .dataframe tbody tr th:only-of-type {\n",
       "        vertical-align: middle;\n",
       "    }\n",
       "\n",
       "    .dataframe tbody tr th {\n",
       "        vertical-align: top;\n",
       "    }\n",
       "\n",
       "    .dataframe thead th {\n",
       "        text-align: right;\n",
       "    }\n",
       "</style>\n",
       "<table border=\"1\" class=\"dataframe\">\n",
       "  <thead>\n",
       "    <tr style=\"text-align: right;\">\n",
       "      <th></th>\n",
       "      <th></th>\n",
       "      <th>N</th>\n",
       "    </tr>\n",
       "    <tr>\n",
       "      <th>IgG_реф</th>\n",
       "      <th>Позиция</th>\n",
       "      <th></th>\n",
       "    </tr>\n",
       "  </thead>\n",
       "  <tbody>\n",
       "    <tr>\n",
       "      <th rowspan=\"2\" valign=\"top\">Не обнаружено</th>\n",
       "      <th>П</th>\n",
       "      <td>29</td>\n",
       "    </tr>\n",
       "    <tr>\n",
       "      <th>ЧЛ</th>\n",
       "      <td>20</td>\n",
       "    </tr>\n",
       "    <tr>\n",
       "      <th rowspan=\"2\" valign=\"top\">Обнаружено</th>\n",
       "      <th>П</th>\n",
       "      <td>60</td>\n",
       "    </tr>\n",
       "    <tr>\n",
       "      <th>ЧЛ</th>\n",
       "      <td>50</td>\n",
       "    </tr>\n",
       "    <tr>\n",
       "      <th>Сомнительно</th>\n",
       "      <th>П</th>\n",
       "      <td>1</td>\n",
       "    </tr>\n",
       "  </tbody>\n",
       "</table>\n",
       "</div>"
      ],
      "text/plain": [
       "                        N\n",
       "IgG_реф       Позиция    \n",
       "Не обнаружено П        29\n",
       "              ЧЛ       20\n",
       "Обнаружено    П        60\n",
       "              ЧЛ       50\n",
       "Сомнительно   П         1"
      ]
     },
     "execution_count": 29,
     "metadata": {},
     "output_type": "execute_result"
    }
   ],
   "source": [
    "df1.groupby(['IgG_реф', 'Позиция']).agg(N  = ('Позиция', N))"
   ]
  },
  {
   "cell_type": "markdown",
   "metadata": {},
   "source": [
    "### Нормальность по полу и позиции"
   ]
  },
  {
   "cell_type": "code",
   "execution_count": 104,
   "metadata": {},
   "outputs": [
    {
     "data": {
      "text/html": [
       "<div>\n",
       "<style scoped>\n",
       "    .dataframe tbody tr th:only-of-type {\n",
       "        vertical-align: middle;\n",
       "    }\n",
       "\n",
       "    .dataframe tbody tr th {\n",
       "        vertical-align: top;\n",
       "    }\n",
       "\n",
       "    .dataframe thead th {\n",
       "        text-align: right;\n",
       "    }\n",
       "</style>\n",
       "<table border=\"1\" class=\"dataframe\">\n",
       "  <thead>\n",
       "    <tr style=\"text-align: right;\">\n",
       "      <th></th>\n",
       "      <th>IgG</th>\n",
       "    </tr>\n",
       "    <tr>\n",
       "      <th>Пол</th>\n",
       "      <th></th>\n",
       "    </tr>\n",
       "  </thead>\n",
       "  <tbody>\n",
       "    <tr>\n",
       "      <th>женский</th>\n",
       "      <td>1.212483e-10</td>\n",
       "    </tr>\n",
       "    <tr>\n",
       "      <th>мужской</th>\n",
       "      <td>2.760785e-07</td>\n",
       "    </tr>\n",
       "  </tbody>\n",
       "</table>\n",
       "</div>"
      ],
      "text/plain": [
       "                  IgG\n",
       "Пол                  \n",
       "женский  1.212483e-10\n",
       "мужской  2.760785e-07"
      ]
     },
     "execution_count": 104,
     "metadata": {},
     "output_type": "execute_result"
    }
   ],
   "source": [
    "df1[['Пол', 'IgG']].dropna().groupby(by='Пол').agg(lambda x: stat.shapiro(np.log(x)).pvalue)"
   ]
  },
  {
   "cell_type": "code",
   "execution_count": 106,
   "metadata": {
    "scrolled": true
   },
   "outputs": [
    {
     "data": {
      "text/html": [
       "<div>\n",
       "<style scoped>\n",
       "    .dataframe tbody tr th:only-of-type {\n",
       "        vertical-align: middle;\n",
       "    }\n",
       "\n",
       "    .dataframe tbody tr th {\n",
       "        vertical-align: top;\n",
       "    }\n",
       "\n",
       "    .dataframe thead th {\n",
       "        text-align: right;\n",
       "    }\n",
       "</style>\n",
       "<table border=\"1\" class=\"dataframe\">\n",
       "  <thead>\n",
       "    <tr style=\"text-align: right;\">\n",
       "      <th></th>\n",
       "      <th>IgG</th>\n",
       "    </tr>\n",
       "    <tr>\n",
       "      <th>Позиция</th>\n",
       "      <th></th>\n",
       "    </tr>\n",
       "  </thead>\n",
       "  <tbody>\n",
       "    <tr>\n",
       "      <th>П</th>\n",
       "      <td>6.415627e-10</td>\n",
       "    </tr>\n",
       "    <tr>\n",
       "      <th>ЧЛ</th>\n",
       "      <td>4.041995e-08</td>\n",
       "    </tr>\n",
       "  </tbody>\n",
       "</table>\n",
       "</div>"
      ],
      "text/plain": [
       "                  IgG\n",
       "Позиция              \n",
       "П        6.415627e-10\n",
       "ЧЛ       4.041995e-08"
      ]
     },
     "execution_count": 106,
     "metadata": {},
     "output_type": "execute_result"
    }
   ],
   "source": [
    "df1[['Позиция', 'IgG']].dropna().groupby(by='Позиция').agg(lambda x: stat.shapiro(np.log(x)).pvalue)"
   ]
  },
  {
   "cell_type": "markdown",
   "metadata": {},
   "source": [
    "### Описательная"
   ]
  },
  {
   "cell_type": "code",
   "execution_count": 150,
   "metadata": {},
   "outputs": [
    {
     "data": {
      "text/html": [
       "<div>\n",
       "<style scoped>\n",
       "    .dataframe tbody tr th:only-of-type {\n",
       "        vertical-align: middle;\n",
       "    }\n",
       "\n",
       "    .dataframe tbody tr th {\n",
       "        vertical-align: top;\n",
       "    }\n",
       "\n",
       "    .dataframe thead th {\n",
       "        text-align: right;\n",
       "    }\n",
       "</style>\n",
       "<table border=\"1\" class=\"dataframe\">\n",
       "  <thead>\n",
       "    <tr style=\"text-align: right;\">\n",
       "      <th></th>\n",
       "      <th>Mean</th>\n",
       "      <th>sd</th>\n",
       "      <th>se</th>\n",
       "      <th>N</th>\n",
       "    </tr>\n",
       "    <tr>\n",
       "      <th>Пол</th>\n",
       "      <th></th>\n",
       "      <th></th>\n",
       "      <th></th>\n",
       "      <th></th>\n",
       "    </tr>\n",
       "  </thead>\n",
       "  <tbody>\n",
       "    <tr>\n",
       "      <th>женский</th>\n",
       "      <td>9.672191</td>\n",
       "      <td>9.101184</td>\n",
       "      <td>± 1.66</td>\n",
       "      <td>115.0</td>\n",
       "    </tr>\n",
       "    <tr>\n",
       "      <th>мужской</th>\n",
       "      <td>11.526889</td>\n",
       "      <td>9.222889</td>\n",
       "      <td>± 2.66</td>\n",
       "      <td>45.0</td>\n",
       "    </tr>\n",
       "  </tbody>\n",
       "</table>\n",
       "</div>"
      ],
      "text/plain": [
       "              Mean        sd      se      N\n",
       "Пол                                        \n",
       "женский   9.672191  9.101184  ± 1.66  115.0\n",
       "мужской  11.526889  9.222889  ± 2.66   45.0"
      ]
     },
     "execution_count": 150,
     "metadata": {},
     "output_type": "execute_result"
    }
   ],
   "source": [
    "# По полу\n",
    "df1.groupby('Пол').agg(Mean = ('IgG', np.mean),\n",
    "                        sd  = ('IgG', np.std),\n",
    "                        se  = ('IgG', se),\n",
    "                         N  = ('IgG', N))"
   ]
  },
  {
   "cell_type": "code",
   "execution_count": 149,
   "metadata": {},
   "outputs": [
    {
     "data": {
      "text/html": [
       "<div>\n",
       "<style scoped>\n",
       "    .dataframe tbody tr th:only-of-type {\n",
       "        vertical-align: middle;\n",
       "    }\n",
       "\n",
       "    .dataframe tbody tr th {\n",
       "        vertical-align: top;\n",
       "    }\n",
       "\n",
       "    .dataframe thead th {\n",
       "        text-align: right;\n",
       "    }\n",
       "</style>\n",
       "<table border=\"1\" class=\"dataframe\">\n",
       "  <thead>\n",
       "    <tr style=\"text-align: right;\">\n",
       "      <th></th>\n",
       "      <th>Mean</th>\n",
       "      <th>sd</th>\n",
       "      <th>se</th>\n",
       "      <th>N</th>\n",
       "    </tr>\n",
       "    <tr>\n",
       "      <th>Позиция</th>\n",
       "      <th></th>\n",
       "      <th></th>\n",
       "      <th></th>\n",
       "      <th></th>\n",
       "    </tr>\n",
       "  </thead>\n",
       "  <tbody>\n",
       "    <tr>\n",
       "      <th>П</th>\n",
       "      <td>10.422111</td>\n",
       "      <td>9.434813</td>\n",
       "      <td>± 1.94</td>\n",
       "      <td>90.0</td>\n",
       "    </tr>\n",
       "    <tr>\n",
       "      <th>ЧЛ</th>\n",
       "      <td>9.900314</td>\n",
       "      <td>8.816693</td>\n",
       "      <td>± 2.05</td>\n",
       "      <td>70.0</td>\n",
       "    </tr>\n",
       "  </tbody>\n",
       "</table>\n",
       "</div>"
      ],
      "text/plain": [
       "              Mean        sd      se     N\n",
       "Позиция                                   \n",
       "П        10.422111  9.434813  ± 1.94  90.0\n",
       "ЧЛ        9.900314  8.816693  ± 2.05  70.0"
      ]
     },
     "execution_count": 149,
     "metadata": {},
     "output_type": "execute_result"
    }
   ],
   "source": [
    "# По позиции\n",
    "df1.groupby('Позиция').agg(Mean = ('IgG', np.mean),\n",
    "                            sd  = ('IgG', np.std),\n",
    "                            se  = ('IgG', se),\n",
    "                             N  = ('IgG', N))"
   ]
  },
  {
   "cell_type": "code",
   "execution_count": 151,
   "metadata": {
    "scrolled": true
   },
   "outputs": [
    {
     "data": {
      "text/plain": [
       "mean    43.2201\n",
       "std     13.7448\n",
       "se       ± 2.12\n",
       "N           159\n",
       "Name: Возраст, dtype: object"
      ]
     },
     "execution_count": 151,
     "metadata": {},
     "output_type": "execute_result"
    }
   ],
   "source": [
    "# По возрасту\n",
    "df1['Возраст'].agg([np.mean, np.std, se, N])"
   ]
  },
  {
   "cell_type": "markdown",
   "metadata": {},
   "source": [
    "# Парные сравнения"
   ]
  },
  {
   "cell_type": "code",
   "execution_count": 64,
   "metadata": {},
   "outputs": [],
   "source": [
    "df1 = df[df['Название.услуги'] == \"IgG\"]"
   ]
  },
  {
   "cell_type": "code",
   "execution_count": 66,
   "metadata": {},
   "outputs": [
    {
     "data": {
      "text/plain": [
       "RanksumsResult(statistic=0.8121500610522151, pvalue=0.41670553075847705)"
      ]
     },
     "execution_count": 66,
     "metadata": {},
     "output_type": "execute_result"
    }
   ],
   "source": [
    "# Сравнение по полу Wilcox\n",
    "logic = df1['Пол'] == 'мужской'\n",
    "stat.ranksums(df1.loc[logic, 'IgG'], df1.loc[~logic, 'IgG'])"
   ]
  },
  {
   "cell_type": "code",
   "execution_count": 70,
   "metadata": {
    "scrolled": true
   },
   "outputs": [
    {
     "name": "stderr",
     "output_type": "stream",
     "text": [
      "D:\\Anaconda\\lib\\site-packages\\seaborn\\distributions.py:2557: FutureWarning: `distplot` is a deprecated function and will be removed in a future version. Please adapt your code to use either `displot` (a figure-level function with similar flexibility) or `histplot` (an axes-level function for histograms).\n",
      "  warnings.warn(msg, FutureWarning)\n",
      "D:\\Anaconda\\lib\\site-packages\\seaborn\\distributions.py:2557: FutureWarning: `distplot` is a deprecated function and will be removed in a future version. Please adapt your code to use either `displot` (a figure-level function with similar flexibility) or `histplot` (an axes-level function for histograms).\n",
      "  warnings.warn(msg, FutureWarning)\n"
     ]
    },
    {
     "data": {
      "text/plain": [
       "<matplotlib.legend.Legend at 0xb434d00>"
      ]
     },
     "execution_count": 70,
     "metadata": {},
     "output_type": "execute_result"
    },
    {
     "data": {
      "image/png": "[encoded data removed]",
      "text/plain": [
       "<Figure size 720x360 with 1 Axes>"
      ]
     },
     "metadata": {
      "needs_background": "light"
     },
     "output_type": "display_data"
    }
   ],
   "source": [
    "fig, ax = plt.subplots(figsize=(10, 5))\n",
    "sns.distplot(ax=ax, a=np.log(df1.loc[logic, 'IgG']), label='men')\n",
    "sns.distplot(ax=ax, a=np.log(df1.loc[~logic, 'IgG']), label='women')\n",
    "ax.vlines(np.log(0.8), 0, 0.5, color='g', linestyle='--')\n",
    "ax.vlines(np.log(1.1), 0, 0.5, color='r', linestyle='--')\n",
    "ax.set_title('IgG', fontsize = 20)\n",
    "ax.legend()"
   ]
  },
  {
   "cell_type": "code",
   "execution_count": 72,
   "metadata": {},
   "outputs": [
    {
     "data": {
      "text/plain": [
       "RanksumsResult(statistic=-0.1736995880237527, pvalue=0.8621015613123777)"
      ]
     },
     "execution_count": 72,
     "metadata": {},
     "output_type": "execute_result"
    }
   ],
   "source": [
    "# Сравнение по положению Wilcox\n",
    "logic = df1['Позиция'] == 'ЧЛ'\n",
    "stat.ranksums(df1.loc[logic, 'IgG'], df1.loc[~logic, 'IgG'])"
   ]
  },
  {
   "cell_type": "code",
   "execution_count": 73,
   "metadata": {},
   "outputs": [
    {
     "name": "stderr",
     "output_type": "stream",
     "text": [
      "D:\\Anaconda\\lib\\site-packages\\seaborn\\distributions.py:2557: FutureWarning: `distplot` is a deprecated function and will be removed in a future version. Please adapt your code to use either `displot` (a figure-level function with similar flexibility) or `histplot` (an axes-level function for histograms).\n",
      "  warnings.warn(msg, FutureWarning)\n",
      "D:\\Anaconda\\lib\\site-packages\\seaborn\\distributions.py:2557: FutureWarning: `distplot` is a deprecated function and will be removed in a future version. Please adapt your code to use either `displot` (a figure-level function with similar flexibility) or `histplot` (an axes-level function for histograms).\n",
      "  warnings.warn(msg, FutureWarning)\n"
     ]
    },
    {
     "data": {
      "text/plain": [
       "<matplotlib.legend.Legend at 0xbcdbb50>"
      ]
     },
     "execution_count": 73,
     "metadata": {},
     "output_type": "execute_result"
    },
    {
     "data": {
      "image/png": "[encoded data removed]",
      "text/plain": [
       "<Figure size 720x360 with 1 Axes>"
      ]
     },
     "metadata": {
      "needs_background": "light"
     },
     "output_type": "display_data"
    }
   ],
   "source": [
    "fig, ax = plt.subplots(figsize=(10, 5))\n",
    "sns.distplot(ax=ax, a=np.log(df1.loc[logic, 'IgG']), label='Symptomatic')\n",
    "sns.distplot(ax=ax, a=np.log(df1.loc[~logic, 'IgG']), label='High-risk')\n",
    "ax.vlines(np.log(0.8), 0, 0.5, color='g', linestyle='--')\n",
    "ax.vlines(np.log(1.1), 0, 0.5, color='r', linestyle='--')\n",
    "ax.set_title('IgG', fontsize = 20)\n",
    "ax.legend()"
   ]
  },
  {
   "cell_type": "markdown",
   "metadata": {},
   "source": [
    "# Иммуноглобулины класса М к вирусу SARS-CoV-2 (Covid-19) методом ИФА (ЗАО \"ВекторБест\") "
   ]
  },
  {
   "cell_type": "code",
   "execution_count": 75,
   "metadata": {},
   "outputs": [],
   "source": [
    "df2 = df[df['Название.услуги'] == 'IgM']\n",
    "df2 = df2.drop(['IgG', 'IgG_реф'], axis =1)"
   ]
  },
  {
   "cell_type": "code",
   "execution_count": null,
   "metadata": {},
   "outputs": [],
   "source": [
    "df2['IgM_реф'].value_counts()"
   ]
  },
  {
   "cell_type": "code",
   "execution_count": 18,
   "metadata": {},
   "outputs": [
    {
     "data": {
      "text/html": [
       "<div>\n",
       "<style scoped>\n",
       "    .dataframe tbody tr th:only-of-type {\n",
       "        vertical-align: middle;\n",
       "    }\n",
       "\n",
       "    .dataframe tbody tr th {\n",
       "        vertical-align: top;\n",
       "    }\n",
       "\n",
       "    .dataframe thead th {\n",
       "        text-align: right;\n",
       "    }\n",
       "</style>\n",
       "<table border=\"1\" class=\"dataframe\">\n",
       "  <thead>\n",
       "    <tr style=\"text-align: right;\">\n",
       "      <th></th>\n",
       "      <th>Возраст</th>\n",
       "      <th>sd</th>\n",
       "      <th>se</th>\n",
       "      <th>N</th>\n",
       "    </tr>\n",
       "    <tr>\n",
       "      <th>IgM_реф</th>\n",
       "      <th></th>\n",
       "      <th></th>\n",
       "      <th></th>\n",
       "      <th></th>\n",
       "    </tr>\n",
       "  </thead>\n",
       "  <tbody>\n",
       "    <tr>\n",
       "      <th>Не обнаружено</th>\n",
       "      <td>40.896226</td>\n",
       "      <td>13.002512</td>\n",
       "      <td>± 2.46</td>\n",
       "      <td>106.0</td>\n",
       "    </tr>\n",
       "    <tr>\n",
       "      <th>Обнаружено</th>\n",
       "      <td>41.857143</td>\n",
       "      <td>14.167367</td>\n",
       "      <td>± 4.63</td>\n",
       "      <td>35.0</td>\n",
       "    </tr>\n",
       "  </tbody>\n",
       "</table>\n",
       "</div>"
      ],
      "text/plain": [
       "                 Возраст         sd      se      N\n",
       "IgM_реф                                           \n",
       "Не обнаружено  40.896226  13.002512  ± 2.46  106.0\n",
       "Обнаружено     41.857143  14.167367  ± 4.63   35.0"
      ]
     },
     "execution_count": 18,
     "metadata": {},
     "output_type": "execute_result"
    }
   ],
   "source": [
    "df2.groupby('IgM_реф').agg(Возраст = ('Возраст', np.mean),\n",
    "                           sd = ('Возраст', np.std),\n",
    "                           se  = ('Возраст', se),\n",
    "                            N  = ('Возраст', N))"
   ]
  },
  {
   "cell_type": "code",
   "execution_count": 19,
   "metadata": {},
   "outputs": [
    {
     "data": {
      "text/html": [
       "<div>\n",
       "<style scoped>\n",
       "    .dataframe tbody tr th:only-of-type {\n",
       "        vertical-align: middle;\n",
       "    }\n",
       "\n",
       "    .dataframe tbody tr th {\n",
       "        vertical-align: top;\n",
       "    }\n",
       "\n",
       "    .dataframe thead th {\n",
       "        text-align: right;\n",
       "    }\n",
       "</style>\n",
       "<table border=\"1\" class=\"dataframe\">\n",
       "  <thead>\n",
       "    <tr style=\"text-align: right;\">\n",
       "      <th></th>\n",
       "      <th></th>\n",
       "      <th>N</th>\n",
       "    </tr>\n",
       "    <tr>\n",
       "      <th>IgM_реф</th>\n",
       "      <th>Пол</th>\n",
       "      <th></th>\n",
       "    </tr>\n",
       "  </thead>\n",
       "  <tbody>\n",
       "    <tr>\n",
       "      <th rowspan=\"2\" valign=\"top\">Не обнаружено</th>\n",
       "      <th>женский</th>\n",
       "      <td>39</td>\n",
       "    </tr>\n",
       "    <tr>\n",
       "      <th>мужской</th>\n",
       "      <td>67</td>\n",
       "    </tr>\n",
       "    <tr>\n",
       "      <th rowspan=\"2\" valign=\"top\">Обнаружено</th>\n",
       "      <th>женский</th>\n",
       "      <td>19</td>\n",
       "    </tr>\n",
       "    <tr>\n",
       "      <th>мужской</th>\n",
       "      <td>16</td>\n",
       "    </tr>\n",
       "  </tbody>\n",
       "</table>\n",
       "</div>"
      ],
      "text/plain": [
       "                        N\n",
       "IgM_реф       Пол        \n",
       "Не обнаружено женский  39\n",
       "              мужской  67\n",
       "Обнаружено    женский  19\n",
       "              мужской  16"
      ]
     },
     "execution_count": 19,
     "metadata": {},
     "output_type": "execute_result"
    }
   ],
   "source": [
    "df2.groupby(['IgM_реф', 'Пол']).agg(N  = ('Пол', N))"
   ]
  },
  {
   "cell_type": "code",
   "execution_count": 31,
   "metadata": {},
   "outputs": [
    {
     "data": {
      "text/html": [
       "<div>\n",
       "<style scoped>\n",
       "    .dataframe tbody tr th:only-of-type {\n",
       "        vertical-align: middle;\n",
       "    }\n",
       "\n",
       "    .dataframe tbody tr th {\n",
       "        vertical-align: top;\n",
       "    }\n",
       "\n",
       "    .dataframe thead th {\n",
       "        text-align: right;\n",
       "    }\n",
       "</style>\n",
       "<table border=\"1\" class=\"dataframe\">\n",
       "  <thead>\n",
       "    <tr style=\"text-align: right;\">\n",
       "      <th></th>\n",
       "      <th></th>\n",
       "      <th>N</th>\n",
       "    </tr>\n",
       "    <tr>\n",
       "      <th>IgM_реф</th>\n",
       "      <th>Позиция</th>\n",
       "      <th></th>\n",
       "    </tr>\n",
       "  </thead>\n",
       "  <tbody>\n",
       "    <tr>\n",
       "      <th rowspan=\"2\" valign=\"top\">Не обнаружено</th>\n",
       "      <th>П</th>\n",
       "      <td>64</td>\n",
       "    </tr>\n",
       "    <tr>\n",
       "      <th>ЧЛ</th>\n",
       "      <td>42</td>\n",
       "    </tr>\n",
       "    <tr>\n",
       "      <th rowspan=\"2\" valign=\"top\">Обнаружено</th>\n",
       "      <th>П</th>\n",
       "      <td>12</td>\n",
       "    </tr>\n",
       "    <tr>\n",
       "      <th>ЧЛ</th>\n",
       "      <td>23</td>\n",
       "    </tr>\n",
       "  </tbody>\n",
       "</table>\n",
       "</div>"
      ],
      "text/plain": [
       "                        N\n",
       "IgM_реф       Позиция    \n",
       "Не обнаружено П        64\n",
       "              ЧЛ       42\n",
       "Обнаружено    П        12\n",
       "              ЧЛ       23"
      ]
     },
     "execution_count": 31,
     "metadata": {},
     "output_type": "execute_result"
    }
   ],
   "source": [
    "df2.groupby(['IgM_реф', 'Позиция']).agg(N  = ('Позиция', N))"
   ]
  },
  {
   "cell_type": "markdown",
   "metadata": {},
   "source": [
    "### Нормальность по полу и позиции"
   ]
  },
  {
   "cell_type": "code",
   "execution_count": 157,
   "metadata": {},
   "outputs": [
    {
     "data": {
      "text/html": [
       "<div>\n",
       "<style scoped>\n",
       "    .dataframe tbody tr th:only-of-type {\n",
       "        vertical-align: middle;\n",
       "    }\n",
       "\n",
       "    .dataframe tbody tr th {\n",
       "        vertical-align: top;\n",
       "    }\n",
       "\n",
       "    .dataframe thead th {\n",
       "        text-align: right;\n",
       "    }\n",
       "</style>\n",
       "<table border=\"1\" class=\"dataframe\">\n",
       "  <thead>\n",
       "    <tr style=\"text-align: right;\">\n",
       "      <th></th>\n",
       "      <th>IgM</th>\n",
       "    </tr>\n",
       "    <tr>\n",
       "      <th>Пол</th>\n",
       "      <th></th>\n",
       "    </tr>\n",
       "  </thead>\n",
       "  <tbody>\n",
       "    <tr>\n",
       "      <th>женский</th>\n",
       "      <td>7.563347e-04</td>\n",
       "    </tr>\n",
       "    <tr>\n",
       "      <th>мужской</th>\n",
       "      <td>5.871290e-10</td>\n",
       "    </tr>\n",
       "  </tbody>\n",
       "</table>\n",
       "</div>"
      ],
      "text/plain": [
       "                  IgM\n",
       "Пол                  \n",
       "женский  7.563347e-04\n",
       "мужской  5.871290e-10"
      ]
     },
     "execution_count": 157,
     "metadata": {},
     "output_type": "execute_result"
    }
   ],
   "source": [
    "df2[['Пол', 'IgM']].dropna().groupby(by='Пол').agg(lambda x: stat.shapiro(np.log(x)).pvalue)"
   ]
  },
  {
   "cell_type": "code",
   "execution_count": 159,
   "metadata": {},
   "outputs": [
    {
     "data": {
      "text/html": [
       "<div>\n",
       "<style scoped>\n",
       "    .dataframe tbody tr th:only-of-type {\n",
       "        vertical-align: middle;\n",
       "    }\n",
       "\n",
       "    .dataframe tbody tr th {\n",
       "        vertical-align: top;\n",
       "    }\n",
       "\n",
       "    .dataframe thead th {\n",
       "        text-align: right;\n",
       "    }\n",
       "</style>\n",
       "<table border=\"1\" class=\"dataframe\">\n",
       "  <thead>\n",
       "    <tr style=\"text-align: right;\">\n",
       "      <th></th>\n",
       "      <th>IgM</th>\n",
       "    </tr>\n",
       "    <tr>\n",
       "      <th>Позиция</th>\n",
       "      <th></th>\n",
       "    </tr>\n",
       "  </thead>\n",
       "  <tbody>\n",
       "    <tr>\n",
       "      <th>П</th>\n",
       "      <td>3.352369e-09</td>\n",
       "    </tr>\n",
       "    <tr>\n",
       "      <th>ЧЛ</th>\n",
       "      <td>2.404680e-04</td>\n",
       "    </tr>\n",
       "  </tbody>\n",
       "</table>\n",
       "</div>"
      ],
      "text/plain": [
       "                  IgM\n",
       "Позиция              \n",
       "П        3.352369e-09\n",
       "ЧЛ       2.404680e-04"
      ]
     },
     "execution_count": 159,
     "metadata": {},
     "output_type": "execute_result"
    }
   ],
   "source": [
    "df2[['Позиция', 'IgM']].dropna().groupby(by='Позиция').agg(lambda x: stat.shapiro(np.log(x)).pvalue)"
   ]
  },
  {
   "cell_type": "markdown",
   "metadata": {},
   "source": [
    "### Описательная"
   ]
  },
  {
   "cell_type": "code",
   "execution_count": 161,
   "metadata": {},
   "outputs": [
    {
     "data": {
      "text/html": [
       "<div>\n",
       "<style scoped>\n",
       "    .dataframe tbody tr th:only-of-type {\n",
       "        vertical-align: middle;\n",
       "    }\n",
       "\n",
       "    .dataframe tbody tr th {\n",
       "        vertical-align: top;\n",
       "    }\n",
       "\n",
       "    .dataframe thead th {\n",
       "        text-align: right;\n",
       "    }\n",
       "</style>\n",
       "<table border=\"1\" class=\"dataframe\">\n",
       "  <thead>\n",
       "    <tr style=\"text-align: right;\">\n",
       "      <th></th>\n",
       "      <th>Mean</th>\n",
       "      <th>sd</th>\n",
       "      <th>se</th>\n",
       "      <th>N</th>\n",
       "    </tr>\n",
       "    <tr>\n",
       "      <th>Пол</th>\n",
       "      <th></th>\n",
       "      <th></th>\n",
       "      <th></th>\n",
       "      <th></th>\n",
       "    </tr>\n",
       "  </thead>\n",
       "  <tbody>\n",
       "    <tr>\n",
       "      <th>женский</th>\n",
       "      <td>1.290862</td>\n",
       "      <td>2.068144</td>\n",
       "      <td>± 0.53</td>\n",
       "      <td>58.0</td>\n",
       "    </tr>\n",
       "    <tr>\n",
       "      <th>мужской</th>\n",
       "      <td>1.799265</td>\n",
       "      <td>4.372553</td>\n",
       "      <td>± 0.94</td>\n",
       "      <td>83.0</td>\n",
       "    </tr>\n",
       "  </tbody>\n",
       "</table>\n",
       "</div>"
      ],
      "text/plain": [
       "             Mean        sd      se     N\n",
       "Пол                                      \n",
       "женский  1.290862  2.068144  ± 0.53  58.0\n",
       "мужской  1.799265  4.372553  ± 0.94  83.0"
      ]
     },
     "execution_count": 161,
     "metadata": {},
     "output_type": "execute_result"
    }
   ],
   "source": [
    "# По полу\n",
    "df2.groupby('Пол').agg(Mean = ('IgM', np.mean),\n",
    "                        sd  = ('IgM', np.std),\n",
    "                        se  = ('IgM', se),\n",
    "                         N  = ('IgM', N))"
   ]
  },
  {
   "cell_type": "code",
   "execution_count": 162,
   "metadata": {},
   "outputs": [
    {
     "data": {
      "text/html": [
       "<div>\n",
       "<style scoped>\n",
       "    .dataframe tbody tr th:only-of-type {\n",
       "        vertical-align: middle;\n",
       "    }\n",
       "\n",
       "    .dataframe tbody tr th {\n",
       "        vertical-align: top;\n",
       "    }\n",
       "\n",
       "    .dataframe thead th {\n",
       "        text-align: right;\n",
       "    }\n",
       "</style>\n",
       "<table border=\"1\" class=\"dataframe\">\n",
       "  <thead>\n",
       "    <tr style=\"text-align: right;\">\n",
       "      <th></th>\n",
       "      <th>Mean</th>\n",
       "      <th>sd</th>\n",
       "      <th>se</th>\n",
       "      <th>N</th>\n",
       "    </tr>\n",
       "    <tr>\n",
       "      <th>Позиция</th>\n",
       "      <th></th>\n",
       "      <th></th>\n",
       "      <th></th>\n",
       "      <th></th>\n",
       "    </tr>\n",
       "  </thead>\n",
       "  <tbody>\n",
       "    <tr>\n",
       "      <th>П</th>\n",
       "      <td>0.848697</td>\n",
       "      <td>2.271918</td>\n",
       "      <td>± 0.51</td>\n",
       "      <td>76.0</td>\n",
       "    </tr>\n",
       "    <tr>\n",
       "      <th>ЧЛ</th>\n",
       "      <td>2.457046</td>\n",
       "      <td>4.580278</td>\n",
       "      <td>± 1.1</td>\n",
       "      <td>65.0</td>\n",
       "    </tr>\n",
       "  </tbody>\n",
       "</table>\n",
       "</div>"
      ],
      "text/plain": [
       "             Mean        sd      se     N\n",
       "Позиция                                  \n",
       "П        0.848697  2.271918  ± 0.51  76.0\n",
       "ЧЛ       2.457046  4.580278   ± 1.1  65.0"
      ]
     },
     "execution_count": 162,
     "metadata": {},
     "output_type": "execute_result"
    }
   ],
   "source": [
    "# По позиции\n",
    "df2.groupby('Позиция').agg(Mean = ('IgM', np.mean),\n",
    "                        sd  = ('IgM', np.std),\n",
    "                        se  = ('IgM', se),\n",
    "                         N  = ('IgM', N))"
   ]
  },
  {
   "cell_type": "code",
   "execution_count": 113,
   "metadata": {},
   "outputs": [
    {
     "data": {
      "text/plain": [
       "mean    39.1888\n",
       "std      12.282\n",
       "se       ± 0.57\n",
       "N          1774\n",
       "Name: Возраст, dtype: object"
      ]
     },
     "execution_count": 113,
     "metadata": {},
     "output_type": "execute_result"
    }
   ],
   "source": [
    "# По возрасту\n",
    "df2['Возраст'].agg([np.mean, np.std, se, N])"
   ]
  },
  {
   "cell_type": "code",
   "execution_count": 77,
   "metadata": {},
   "outputs": [
    {
     "data": {
      "text/plain": [
       "RanksumsResult(statistic=-6.2221105365964355, pvalue=4.905112457746712e-10)"
      ]
     },
     "execution_count": 77,
     "metadata": {},
     "output_type": "execute_result"
    }
   ],
   "source": [
    "# Сравнение по полу Wilcox\n",
    "logic = df['Пол'] == 'мужской'\n",
    "stat.ranksums(df.loc[logic, 'IgG'], df.loc[~logic, 'IgG'])\n",
    "#Есть отличие"
   ]
  },
  {
   "cell_type": "code",
   "execution_count": 79,
   "metadata": {
    "scrolled": false
   },
   "outputs": [
    {
     "name": "stderr",
     "output_type": "stream",
     "text": [
      "D:\\Anaconda\\lib\\site-packages\\seaborn\\distributions.py:2557: FutureWarning: `distplot` is a deprecated function and will be removed in a future version. Please adapt your code to use either `displot` (a figure-level function with similar flexibility) or `histplot` (an axes-level function for histograms).\n",
      "  warnings.warn(msg, FutureWarning)\n",
      "D:\\Anaconda\\lib\\site-packages\\seaborn\\distributions.py:2557: FutureWarning: `distplot` is a deprecated function and will be removed in a future version. Please adapt your code to use either `displot` (a figure-level function with similar flexibility) or `histplot` (an axes-level function for histograms).\n",
      "  warnings.warn(msg, FutureWarning)\n"
     ]
    },
    {
     "data": {
      "text/plain": [
       "<matplotlib.legend.Legend at 0xbf309d0>"
      ]
     },
     "execution_count": 79,
     "metadata": {},
     "output_type": "execute_result"
    },
    {
     "data": {
      "image/png": "[encoded data removed]",
      "text/plain": [
       "<Figure size 720x360 with 1 Axes>"
      ]
     },
     "metadata": {
      "needs_background": "light"
     },
     "output_type": "display_data"
    }
   ],
   "source": [
    "fig, ax = plt.subplots(figsize=(10, 5))\n",
    "sns.distplot(ax=ax, a=np.log(df2.loc[logic, 'IgM']), label='men')\n",
    "sns.distplot(ax=ax, a=np.log(df2.loc[~logic, 'IgM']), label='women')\n",
    "ax.vlines(np.log(0.8), 0, 0.5, color='g', linestyle='--')\n",
    "ax.vlines(np.log(1.1), 0, 0.5, color='r', linestyle='--')\n",
    "ax.set_title('IgM', fontsize = 20)\n",
    "ax.legend()"
   ]
  },
  {
   "cell_type": "code",
   "execution_count": 80,
   "metadata": {},
   "outputs": [
    {
     "data": {
      "text/plain": [
       "RanksumsResult(statistic=11.104996986888818, pvalue=1.18621346262704e-28)"
      ]
     },
     "execution_count": 80,
     "metadata": {},
     "output_type": "execute_result"
    }
   ],
   "source": [
    "# Сравнение по положению Wilcox\n",
    "logic = df['Позиция'] == 'ЧЛ'\n",
    "stat.ranksums(df.loc[logic, 'IgG'], df.loc[~logic, 'IgG'])\n",
    "# Есть отличия"
   ]
  },
  {
   "cell_type": "code",
   "execution_count": 82,
   "metadata": {},
   "outputs": [
    {
     "name": "stderr",
     "output_type": "stream",
     "text": [
      "D:\\Anaconda\\lib\\site-packages\\seaborn\\distributions.py:2557: FutureWarning: `distplot` is a deprecated function and will be removed in a future version. Please adapt your code to use either `displot` (a figure-level function with similar flexibility) or `histplot` (an axes-level function for histograms).\n",
      "  warnings.warn(msg, FutureWarning)\n",
      "D:\\Anaconda\\lib\\site-packages\\seaborn\\distributions.py:2557: FutureWarning: `distplot` is a deprecated function and will be removed in a future version. Please adapt your code to use either `displot` (a figure-level function with similar flexibility) or `histplot` (an axes-level function for histograms).\n",
      "  warnings.warn(msg, FutureWarning)\n"
     ]
    },
    {
     "data": {
      "text/plain": [
       "<matplotlib.legend.Legend at 0xc0281f0>"
      ]
     },
     "execution_count": 82,
     "metadata": {},
     "output_type": "execute_result"
    },
    {
     "data": {
      "image/png": "[encoded data removed]",
      "text/plain": [
       "<Figure size 720x360 with 1 Axes>"
      ]
     },
     "metadata": {
      "needs_background": "light"
     },
     "output_type": "display_data"
    }
   ],
   "source": [
    "fig, ax = plt.subplots(figsize=(10, 5))\n",
    "sns.distplot(ax=ax, a=np.log(df2.loc[logic, 'IgM']), label='Symptomatic')\n",
    "sns.distplot(ax=ax, a=np.log(df2.loc[~logic, 'IgM']), label='High-risk')\n",
    "ax.vlines(np.log(0.8), 0, 0.5, color='g', linestyle='--')\n",
    "ax.vlines(np.log(1.1), 0, 0.5, color='r', linestyle='--')\n",
    "ax.set_title('IgM', fontsize = 20)\n",
    "ax.legend()"
   ]
  },
  {
   "cell_type": "markdown",
   "metadata": {},
   "source": [
    "# Иммуноглобулины класса G к вирусу SARS-CoV-2 (Covid-19) методом ИФА (ЗАО \"ВекторБест\") и Иммуноглобулины класса М к вирусу SARS-CoV-2 (Covid-19) методом ИФА (ЗАО \"ВекторБест\") \t"
   ]
  },
  {
   "cell_type": "code",
   "execution_count": 20,
   "metadata": {},
   "outputs": [],
   "source": [
    "df3 = df[df['Название.услуги'] == 'IgM+IgG']"
   ]
  },
  {
   "cell_type": "code",
   "execution_count": 22,
   "metadata": {},
   "outputs": [
    {
     "name": "stderr",
     "output_type": "stream",
     "text": [
      "<ipython-input-22-43914813de64>:1: SettingWithCopyWarning: \n",
      "A value is trying to be set on a copy of a slice from a DataFrame.\n",
      "Try using .loc[row_indexer,col_indexer] = value instead\n",
      "\n",
      "See the caveats in the documentation: https://pandas.pydata.org/pandas-docs/stable/user_guide/indexing.html#returning-a-view-versus-a-copy\n",
      "  df3['Результат'] = df3[['IgM_реф', 'IgG_реф']].apply(lambda x: f'IgM: {x[0]} | IgG: {x[1]}', axis=1)\n"
     ]
    },
    {
     "data": {
      "text/plain": [
       "0       IgM: Не обнаружено | IgG: Не обнаружено\n",
       "1             IgM: Обнаружено | IgG: Обнаружено\n",
       "2       IgM: Не обнаружено | IgG: Не обнаружено\n",
       "3       IgM: Не обнаружено | IgG: Не обнаружено\n",
       "4       IgM: Не обнаружено | IgG: Не обнаружено\n",
       "                         ...                   \n",
       "1778       IgM: Не обнаружено | IgG: Обнаружено\n",
       "1779          IgM: Обнаружено | IgG: Обнаружено\n",
       "1780    IgM: Не обнаружено | IgG: Не обнаружено\n",
       "1781    IgM: Не обнаружено | IgG: Не обнаружено\n",
       "1782          IgM: Обнаружено | IgG: Обнаружено\n",
       "Name: Результат, Length: 1783, dtype: object"
      ]
     },
     "execution_count": 22,
     "metadata": {},
     "output_type": "execute_result"
    }
   ],
   "source": [
    "df3['Результат'] = df3[['IgM_реф', 'IgG_реф']].apply(lambda x: f'IgM: {x[0]} | IgG: {x[1]}', axis=1)\n",
    "df3['Результат']"
   ]
  },
  {
   "cell_type": "code",
   "execution_count": 23,
   "metadata": {},
   "outputs": [
    {
     "data": {
      "text/html": [
       "<div>\n",
       "<style scoped>\n",
       "    .dataframe tbody tr th:only-of-type {\n",
       "        vertical-align: middle;\n",
       "    }\n",
       "\n",
       "    .dataframe tbody tr th {\n",
       "        vertical-align: top;\n",
       "    }\n",
       "\n",
       "    .dataframe thead th {\n",
       "        text-align: right;\n",
       "    }\n",
       "</style>\n",
       "<table border=\"1\" class=\"dataframe\">\n",
       "  <thead>\n",
       "    <tr style=\"text-align: right;\">\n",
       "      <th></th>\n",
       "      <th>Возраст</th>\n",
       "      <th>sd</th>\n",
       "      <th>se</th>\n",
       "      <th>N</th>\n",
       "    </tr>\n",
       "    <tr>\n",
       "      <th>Результат</th>\n",
       "      <th></th>\n",
       "      <th></th>\n",
       "      <th></th>\n",
       "      <th></th>\n",
       "    </tr>\n",
       "  </thead>\n",
       "  <tbody>\n",
       "    <tr>\n",
       "      <th>IgM: Не обнаружено | IgG: Не обнаружено</th>\n",
       "      <td>38.474563</td>\n",
       "      <td>11.835040</td>\n",
       "      <td>± 0.65</td>\n",
       "      <td>1258.0</td>\n",
       "    </tr>\n",
       "    <tr>\n",
       "      <th>IgM: Не обнаружено | IgG: Обнаружено</th>\n",
       "      <td>36.729412</td>\n",
       "      <td>13.491963</td>\n",
       "      <td>± 2.85</td>\n",
       "      <td>85.0</td>\n",
       "    </tr>\n",
       "    <tr>\n",
       "      <th>IgM: Не обнаружено | IgG: Сомнительно</th>\n",
       "      <td>36.666667</td>\n",
       "      <td>13.515423</td>\n",
       "      <td>± 9.87</td>\n",
       "      <td>6.0</td>\n",
       "    </tr>\n",
       "    <tr>\n",
       "      <th>IgM: Обнаружено | IgG: Не обнаружено</th>\n",
       "      <td>42.200000</td>\n",
       "      <td>11.563265</td>\n",
       "      <td>± 3.3</td>\n",
       "      <td>45.0</td>\n",
       "    </tr>\n",
       "    <tr>\n",
       "      <th>IgM: Обнаружено | IgG: Обнаружено</th>\n",
       "      <td>41.786145</td>\n",
       "      <td>13.450796</td>\n",
       "      <td>± 1.44</td>\n",
       "      <td>332.0</td>\n",
       "    </tr>\n",
       "    <tr>\n",
       "      <th>IgM: Обнаружено | IgG: Сомнительно</th>\n",
       "      <td>44.545455</td>\n",
       "      <td>11.578978</td>\n",
       "      <td>± 6.52</td>\n",
       "      <td>11.0</td>\n",
       "    </tr>\n",
       "    <tr>\n",
       "      <th>IgM: Сомнительно | IgG: Не обнаружено</th>\n",
       "      <td>40.444444</td>\n",
       "      <td>10.038814</td>\n",
       "      <td>± 6.18</td>\n",
       "      <td>9.0</td>\n",
       "    </tr>\n",
       "    <tr>\n",
       "      <th>IgM: Сомнительно | IgG: Обнаружено</th>\n",
       "      <td>41.142857</td>\n",
       "      <td>10.518817</td>\n",
       "      <td>± 3.76</td>\n",
       "      <td>28.0</td>\n",
       "    </tr>\n",
       "  </tbody>\n",
       "</table>\n",
       "</div>"
      ],
      "text/plain": [
       "                                           Возраст         sd      se       N\n",
       "Результат                                                                    \n",
       "IgM: Не обнаружено | IgG: Не обнаружено  38.474563  11.835040  ± 0.65  1258.0\n",
       "IgM: Не обнаружено | IgG: Обнаружено     36.729412  13.491963  ± 2.85    85.0\n",
       "IgM: Не обнаружено | IgG: Сомнительно    36.666667  13.515423  ± 9.87     6.0\n",
       "IgM: Обнаружено | IgG: Не обнаружено     42.200000  11.563265   ± 3.3    45.0\n",
       "IgM: Обнаружено | IgG: Обнаружено        41.786145  13.450796  ± 1.44   332.0\n",
       "IgM: Обнаружено | IgG: Сомнительно       44.545455  11.578978  ± 6.52    11.0\n",
       "IgM: Сомнительно | IgG: Не обнаружено    40.444444  10.038814  ± 6.18     9.0\n",
       "IgM: Сомнительно | IgG: Обнаружено       41.142857  10.518817  ± 3.76    28.0"
      ]
     },
     "execution_count": 23,
     "metadata": {},
     "output_type": "execute_result"
    }
   ],
   "source": [
    "df3.groupby('Результат').agg(Возраст = ('Возраст', np.mean),\n",
    "                           sd = ('Возраст', np.std),\n",
    "                           se  = ('Возраст', se),\n",
    "                            N  = ('Возраст', N))"
   ]
  },
  {
   "cell_type": "code",
   "execution_count": 25,
   "metadata": {},
   "outputs": [
    {
     "data": {
      "text/html": [
       "<div>\n",
       "<style scoped>\n",
       "    .dataframe tbody tr th:only-of-type {\n",
       "        vertical-align: middle;\n",
       "    }\n",
       "\n",
       "    .dataframe tbody tr th {\n",
       "        vertical-align: top;\n",
       "    }\n",
       "\n",
       "    .dataframe thead th {\n",
       "        text-align: right;\n",
       "    }\n",
       "</style>\n",
       "<table border=\"1\" class=\"dataframe\">\n",
       "  <thead>\n",
       "    <tr style=\"text-align: right;\">\n",
       "      <th></th>\n",
       "      <th></th>\n",
       "      <th>N</th>\n",
       "    </tr>\n",
       "    <tr>\n",
       "      <th>Результат</th>\n",
       "      <th>Пол</th>\n",
       "      <th></th>\n",
       "    </tr>\n",
       "  </thead>\n",
       "  <tbody>\n",
       "    <tr>\n",
       "      <th rowspan=\"2\" valign=\"top\">IgM: Не обнаружено | IgG: Не обнаружено</th>\n",
       "      <th>женский</th>\n",
       "      <td>423</td>\n",
       "    </tr>\n",
       "    <tr>\n",
       "      <th>мужской</th>\n",
       "      <td>839</td>\n",
       "    </tr>\n",
       "    <tr>\n",
       "      <th rowspan=\"2\" valign=\"top\">IgM: Не обнаружено | IgG: Обнаружено</th>\n",
       "      <th>женский</th>\n",
       "      <td>41</td>\n",
       "    </tr>\n",
       "    <tr>\n",
       "      <th>мужской</th>\n",
       "      <td>44</td>\n",
       "    </tr>\n",
       "    <tr>\n",
       "      <th rowspan=\"2\" valign=\"top\">IgM: Не обнаружено | IgG: Сомнительно</th>\n",
       "      <th>женский</th>\n",
       "      <td>3</td>\n",
       "    </tr>\n",
       "    <tr>\n",
       "      <th>мужской</th>\n",
       "      <td>3</td>\n",
       "    </tr>\n",
       "    <tr>\n",
       "      <th rowspan=\"2\" valign=\"top\">IgM: Обнаружено | IgG: Не обнаружено</th>\n",
       "      <th>женский</th>\n",
       "      <td>21</td>\n",
       "    </tr>\n",
       "    <tr>\n",
       "      <th>мужской</th>\n",
       "      <td>25</td>\n",
       "    </tr>\n",
       "    <tr>\n",
       "      <th rowspan=\"2\" valign=\"top\">IgM: Обнаружено | IgG: Обнаружено</th>\n",
       "      <th>женский</th>\n",
       "      <td>165</td>\n",
       "    </tr>\n",
       "    <tr>\n",
       "      <th>мужской</th>\n",
       "      <td>170</td>\n",
       "    </tr>\n",
       "    <tr>\n",
       "      <th rowspan=\"2\" valign=\"top\">IgM: Обнаружено | IgG: Сомнительно</th>\n",
       "      <th>женский</th>\n",
       "      <td>8</td>\n",
       "    </tr>\n",
       "    <tr>\n",
       "      <th>мужской</th>\n",
       "      <td>3</td>\n",
       "    </tr>\n",
       "    <tr>\n",
       "      <th rowspan=\"2\" valign=\"top\">IgM: Сомнительно | IgG: Не обнаружено</th>\n",
       "      <th>женский</th>\n",
       "      <td>2</td>\n",
       "    </tr>\n",
       "    <tr>\n",
       "      <th>мужской</th>\n",
       "      <td>7</td>\n",
       "    </tr>\n",
       "    <tr>\n",
       "      <th rowspan=\"2\" valign=\"top\">IgM: Сомнительно | IgG: Обнаружено</th>\n",
       "      <th>женский</th>\n",
       "      <td>19</td>\n",
       "    </tr>\n",
       "    <tr>\n",
       "      <th>мужской</th>\n",
       "      <td>10</td>\n",
       "    </tr>\n",
       "  </tbody>\n",
       "</table>\n",
       "</div>"
      ],
      "text/plain": [
       "                                                   N\n",
       "Результат                               Пол         \n",
       "IgM: Не обнаружено | IgG: Не обнаружено женский  423\n",
       "                                        мужской  839\n",
       "IgM: Не обнаружено | IgG: Обнаружено    женский   41\n",
       "                                        мужской   44\n",
       "IgM: Не обнаружено | IgG: Сомнительно   женский    3\n",
       "                                        мужской    3\n",
       "IgM: Обнаружено | IgG: Не обнаружено    женский   21\n",
       "                                        мужской   25\n",
       "IgM: Обнаружено | IgG: Обнаружено       женский  165\n",
       "                                        мужской  170\n",
       "IgM: Обнаружено | IgG: Сомнительно      женский    8\n",
       "                                        мужской    3\n",
       "IgM: Сомнительно | IgG: Не обнаружено   женский    2\n",
       "                                        мужской    7\n",
       "IgM: Сомнительно | IgG: Обнаружено      женский   19\n",
       "                                        мужской   10"
      ]
     },
     "execution_count": 25,
     "metadata": {},
     "output_type": "execute_result"
    }
   ],
   "source": [
    "df3.groupby(['Результат','Пол']).agg(N  = ('Пол', N))"
   ]
  },
  {
   "cell_type": "code",
   "execution_count": 33,
   "metadata": {},
   "outputs": [
    {
     "data": {
      "text/html": [
       "<div>\n",
       "<style scoped>\n",
       "    .dataframe tbody tr th:only-of-type {\n",
       "        vertical-align: middle;\n",
       "    }\n",
       "\n",
       "    .dataframe tbody tr th {\n",
       "        vertical-align: top;\n",
       "    }\n",
       "\n",
       "    .dataframe thead th {\n",
       "        text-align: right;\n",
       "    }\n",
       "</style>\n",
       "<table border=\"1\" class=\"dataframe\">\n",
       "  <thead>\n",
       "    <tr style=\"text-align: right;\">\n",
       "      <th></th>\n",
       "      <th></th>\n",
       "      <th>N</th>\n",
       "    </tr>\n",
       "    <tr>\n",
       "      <th>Результат</th>\n",
       "      <th>Позиция</th>\n",
       "      <th></th>\n",
       "    </tr>\n",
       "  </thead>\n",
       "  <tbody>\n",
       "    <tr>\n",
       "      <th rowspan=\"2\" valign=\"top\">IgM: Не обнаружено | IgG: Не обнаружено</th>\n",
       "      <th>П</th>\n",
       "      <td>895</td>\n",
       "    </tr>\n",
       "    <tr>\n",
       "      <th>ЧЛ</th>\n",
       "      <td>367</td>\n",
       "    </tr>\n",
       "    <tr>\n",
       "      <th rowspan=\"2\" valign=\"top\">IgM: Не обнаружено | IgG: Обнаружено</th>\n",
       "      <th>П</th>\n",
       "      <td>45</td>\n",
       "    </tr>\n",
       "    <tr>\n",
       "      <th>ЧЛ</th>\n",
       "      <td>40</td>\n",
       "    </tr>\n",
       "    <tr>\n",
       "      <th rowspan=\"2\" valign=\"top\">IgM: Не обнаружено | IgG: Сомнительно</th>\n",
       "      <th>П</th>\n",
       "      <td>3</td>\n",
       "    </tr>\n",
       "    <tr>\n",
       "      <th>ЧЛ</th>\n",
       "      <td>3</td>\n",
       "    </tr>\n",
       "    <tr>\n",
       "      <th rowspan=\"2\" valign=\"top\">IgM: Обнаружено | IgG: Не обнаружено</th>\n",
       "      <th>П</th>\n",
       "      <td>21</td>\n",
       "    </tr>\n",
       "    <tr>\n",
       "      <th>ЧЛ</th>\n",
       "      <td>25</td>\n",
       "    </tr>\n",
       "    <tr>\n",
       "      <th rowspan=\"2\" valign=\"top\">IgM: Обнаружено | IgG: Обнаружено</th>\n",
       "      <th>П</th>\n",
       "      <td>113</td>\n",
       "    </tr>\n",
       "    <tr>\n",
       "      <th>ЧЛ</th>\n",
       "      <td>222</td>\n",
       "    </tr>\n",
       "    <tr>\n",
       "      <th rowspan=\"2\" valign=\"top\">IgM: Обнаружено | IgG: Сомнительно</th>\n",
       "      <th>П</th>\n",
       "      <td>5</td>\n",
       "    </tr>\n",
       "    <tr>\n",
       "      <th>ЧЛ</th>\n",
       "      <td>6</td>\n",
       "    </tr>\n",
       "    <tr>\n",
       "      <th rowspan=\"2\" valign=\"top\">IgM: Сомнительно | IgG: Не обнаружено</th>\n",
       "      <th>П</th>\n",
       "      <td>5</td>\n",
       "    </tr>\n",
       "    <tr>\n",
       "      <th>ЧЛ</th>\n",
       "      <td>4</td>\n",
       "    </tr>\n",
       "    <tr>\n",
       "      <th rowspan=\"2\" valign=\"top\">IgM: Сомнительно | IgG: Обнаружено</th>\n",
       "      <th>П</th>\n",
       "      <td>4</td>\n",
       "    </tr>\n",
       "    <tr>\n",
       "      <th>ЧЛ</th>\n",
       "      <td>25</td>\n",
       "    </tr>\n",
       "  </tbody>\n",
       "</table>\n",
       "</div>"
      ],
      "text/plain": [
       "                                                   N\n",
       "Результат                               Позиция     \n",
       "IgM: Не обнаружено | IgG: Не обнаружено П        895\n",
       "                                        ЧЛ       367\n",
       "IgM: Не обнаружено | IgG: Обнаружено    П         45\n",
       "                                        ЧЛ        40\n",
       "IgM: Не обнаружено | IgG: Сомнительно   П          3\n",
       "                                        ЧЛ         3\n",
       "IgM: Обнаружено | IgG: Не обнаружено    П         21\n",
       "                                        ЧЛ        25\n",
       "IgM: Обнаружено | IgG: Обнаружено       П        113\n",
       "                                        ЧЛ       222\n",
       "IgM: Обнаружено | IgG: Сомнительно      П          5\n",
       "                                        ЧЛ         6\n",
       "IgM: Сомнительно | IgG: Не обнаружено   П          5\n",
       "                                        ЧЛ         4\n",
       "IgM: Сомнительно | IgG: Обнаружено      П          4\n",
       "                                        ЧЛ        25"
      ]
     },
     "execution_count": 33,
     "metadata": {},
     "output_type": "execute_result"
    }
   ],
   "source": [
    "df3.groupby(['Результат', 'Позиция']).agg(N  = ('Позиция', N))"
   ]
  },
  {
   "cell_type": "code",
   "execution_count": 111,
   "metadata": {},
   "outputs": [
    {
     "data": {
      "text/plain": [
       "SpearmanrResult(correlation=0.6526511470933151, pvalue=6.366399422964868e-217)"
      ]
     },
     "execution_count": 111,
     "metadata": {},
     "output_type": "execute_result"
    }
   ],
   "source": [
    "stat.spearmanr((df[['IgM', 'IgG']].dropna()))"
   ]
  },
  {
   "cell_type": "code",
   "execution_count": 134,
   "metadata": {},
   "outputs": [
    {
     "data": {
      "text/plain": [
       "RanksumsResult(statistic=-1.5062487983877988, pvalue=0.13200331666956427)"
      ]
     },
     "execution_count": 134,
     "metadata": {},
     "output_type": "execute_result"
    }
   ],
   "source": [
    "# Сравнение по ПЦР Wilcox\n",
    "logic = df['ПЦР'] == 'Не обнаружено'\n",
    "stat.ranksums(df.loc[logic, 'IgM'], df.loc[~logic, 'IgM'])"
   ]
  },
  {
   "cell_type": "code",
   "execution_count": 132,
   "metadata": {},
   "outputs": [
    {
     "data": {
      "text/plain": [
       "16      Не обнаружено\n",
       "52      Не обнаружено\n",
       "60      Не обнаружено\n",
       "69      Не обнаружено\n",
       "70      Не обнаружено\n",
       "            ...      \n",
       "1663    Не обнаружено\n",
       "1664    Не обнаружено\n",
       "1668    Не обнаружено\n",
       "1678       ОБНАРУЖЕНО\n",
       "1736    Не обнаружено\n",
       "Name: ПЦР, Length: 106, dtype: object"
      ]
     },
     "execution_count": 132,
     "metadata": {},
     "output_type": "execute_result"
    }
   ],
   "source": [
    "df['ПЦР'].dropna()"
   ]
  },
  {
   "cell_type": "markdown",
   "metadata": {},
   "source": [
    "# Прошлогодняя залупа"
   ]
  },
  {
   "cell_type": "code",
   "execution_count": 5,
   "metadata": {},
   "outputs": [],
   "source": [
    "df = pd.read_excel(r'C:\\Users\\Пажилой биофизик\\Downloads\\MD.xlsx', header=1)"
   ]
  },
  {
   "cell_type": "code",
   "execution_count": 14,
   "metadata": {},
   "outputs": [],
   "source": [
    "df['Other'] = df['Количество свисаний']+df['Количество болюсов']+df['Грызение']+df['чих']+df['замирания']"
   ]
  },
  {
   "cell_type": "code",
   "execution_count": 12,
   "metadata": {},
   "outputs": [
    {
     "data": {
      "text/plain": [
       "Index(['порядковый номер ', 'Группа 1',\n",
       "       'Группа 2(0-контроль, 1-высокотревожные, 2-низкотревожные)',\n",
       "       'ВРЕМЯ В ОТКРЫТЫХ РУКАВАХ, сек', 'ВРЕМЯ ЦЕНТР, сек',\n",
       "       'ВРЕМЯ \"ОТКРЫТЫЕ+ЦЕНТР\", сек', 'ВРЕМЯ В ЗАКРЫТЫХ РУКАВАХ, сек',\n",
       "       'Количество заходов в центр', 'Количество заходов в открытые рукава',\n",
       "       'Количество заходов в закрытые рукава', 'Общее количество заходов',\n",
       "       'Переходы открытые ', 'Переходы закрытые', 'Переходы общее',\n",
       "       'Количество стоек', 'Количество свисаний', 'Количество актов груминга',\n",
       "       'Общее время груминга, сек', 'Количество актов сниффинга',\n",
       "       'Вытягивания', 'Выглядывания', 'Количество болюсов', 'Грызение', 'чих',\n",
       "       'замирания', 'время замирания', 'ИТ'],\n",
       "      dtype='object')"
      ]
     },
     "execution_count": 12,
     "metadata": {},
     "output_type": "execute_result"
    }
   ],
   "source": [
    "df.columns"
   ]
  },
  {
   "cell_type": "code",
   "execution_count": 15,
   "metadata": {},
   "outputs": [
    {
     "data": {
      "text/html": [
       "<div>\n",
       "<style scoped>\n",
       "    .dataframe tbody tr th:only-of-type {\n",
       "        vertical-align: middle;\n",
       "    }\n",
       "\n",
       "    .dataframe tbody tr th {\n",
       "        vertical-align: top;\n",
       "    }\n",
       "\n",
       "    .dataframe thead th {\n",
       "        text-align: right;\n",
       "    }\n",
       "</style>\n",
       "<table border=\"1\" class=\"dataframe\">\n",
       "  <thead>\n",
       "    <tr style=\"text-align: right;\">\n",
       "      <th></th>\n",
       "      <th>Количество стоек</th>\n",
       "      <th>Other</th>\n",
       "    </tr>\n",
       "    <tr>\n",
       "      <th>Группа 1</th>\n",
       "      <th></th>\n",
       "      <th></th>\n",
       "    </tr>\n",
       "  </thead>\n",
       "  <tbody>\n",
       "    <tr>\n",
       "      <th>MD</th>\n",
       "      <td>39.073171</td>\n",
       "      <td>5.195122</td>\n",
       "    </tr>\n",
       "    <tr>\n",
       "      <th>контроль</th>\n",
       "      <td>30.642857</td>\n",
       "      <td>1.928571</td>\n",
       "    </tr>\n",
       "  </tbody>\n",
       "</table>\n",
       "</div>"
      ],
      "text/plain": [
       "          Количество стоек     Other\n",
       "Группа 1                            \n",
       "MD               39.073171  5.195122\n",
       "контроль         30.642857  1.928571"
      ]
     },
     "execution_count": 15,
     "metadata": {},
     "output_type": "execute_result"
    }
   ],
   "source": [
    "df.groupby('Группа 1')[['Количество стоек','Other']].apply(np.mean)"
   ]
  },
  {
   "cell_type": "code",
   "execution_count": null,
   "metadata": {},
   "outputs": [],
   "source": []
  }
 ],
 "metadata": {
  "kernelspec": {
   "display_name": "Python 3",
   "language": "python",
   "name": "python3"
  },
  "language_info": {
   "codemirror_mode": {
    "name": "ipython",
    "version": 3
   },
   "file_extension": ".py",
   "mimetype": "text/x-python",
   "name": "python",
   "nbconvert_exporter": "python",
   "pygments_lexer": "ipython3",
   "version": "3.8.3"
  }
 },
 "nbformat": 4,
 "nbformat_minor": 4
}
