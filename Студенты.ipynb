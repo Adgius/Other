{
 "cells": [
  {
   "cell_type": "code",
   "execution_count": 12,
   "metadata": {},
   "outputs": [],
   "source": [
    "import pandas as pd\n",
    "import os\n",
    "import numpy as np"
   ]
  },
  {
   "cell_type": "code",
   "execution_count": 6,
   "metadata": {},
   "outputs": [],
   "source": [
    "df = pd.read_excel(r'C:\\Users\\Пажилой биофизик\\Downloads\\Dataset (n = 1236).xlsx')\n",
    "df.drop(columns='#', inplace=True)"
   ]
  },
  {
   "cell_type": "markdown",
   "metadata": {},
   "source": [
    "# Table 1"
   ]
  },
  {
   "cell_type": "markdown",
   "metadata": {},
   "source": [
    "**Average age**"
   ]
  },
  {
   "cell_type": "code",
   "execution_count": 15,
   "metadata": {
    "scrolled": true
   },
   "outputs": [
    {
     "data": {
      "text/plain": [
       "'19.57 ± 2.13'"
      ]
     },
     "execution_count": 15,
     "metadata": {},
     "output_type": "execute_result"
    }
   ],
   "source": [
    "f\"{round(df['AGE'].mean(), 2)} ± {round(np.std(df['AGE']), 2)}\""
   ]
  },
  {
   "cell_type": "markdown",
   "metadata": {},
   "source": [
    " # <font color='green'>Все ОК!</font>"
   ]
  },
  {
   "cell_type": "markdown",
   "metadata": {},
   "source": [
    "**Female percent**"
   ]
  },
  {
   "cell_type": "code",
   "execution_count": 22,
   "metadata": {},
   "outputs": [
    {
     "data": {
      "text/plain": [
       "71.93"
      ]
     },
     "execution_count": 22,
     "metadata": {},
     "output_type": "execute_result"
    }
   ],
   "source": [
    "round((df['SEX (1=male)'].notnull().sum() - df['SEX (1=male)'].sum()) / df['SEX (1=male)'].notnull().sum()*100, 2)"
   ]
  },
  {
   "cell_type": "markdown",
   "metadata": {},
   "source": [
    " # <font color='green'>Все ОК!</font>"
   ]
  },
  {
   "cell_type": "markdown",
   "metadata": {},
   "source": [
    "**Education status**"
   ]
  },
  {
   "cell_type": "code",
   "execution_count": 36,
   "metadata": {
    "scrolled": true
   },
   "outputs": [
    {
     "data": {
      "text/html": [
       "<div>\n",
       "<style scoped>\n",
       "    .dataframe tbody tr th:only-of-type {\n",
       "        vertical-align: middle;\n",
       "    }\n",
       "\n",
       "    .dataframe tbody tr th {\n",
       "        vertical-align: top;\n",
       "    }\n",
       "\n",
       "    .dataframe thead th {\n",
       "        text-align: right;\n",
       "    }\n",
       "</style>\n",
       "<table border=\"1\" class=\"dataframe\">\n",
       "  <thead>\n",
       "    <tr style=\"text-align: right;\">\n",
       "      <th></th>\n",
       "      <th>N</th>\n",
       "      <th>Perc</th>\n",
       "    </tr>\n",
       "  </thead>\n",
       "  <tbody>\n",
       "    <tr>\n",
       "      <th>0</th>\n",
       "      <td>481</td>\n",
       "      <td>38.9</td>\n",
       "    </tr>\n",
       "    <tr>\n",
       "      <th>1</th>\n",
       "      <td>458</td>\n",
       "      <td>37.1</td>\n",
       "    </tr>\n",
       "    <tr>\n",
       "      <th>2</th>\n",
       "      <td>234</td>\n",
       "      <td>18.9</td>\n",
       "    </tr>\n",
       "    <tr>\n",
       "      <th>3</th>\n",
       "      <td>46</td>\n",
       "      <td>3.7</td>\n",
       "    </tr>\n",
       "    <tr>\n",
       "      <th>4</th>\n",
       "      <td>14</td>\n",
       "      <td>1.1</td>\n",
       "    </tr>\n",
       "    <tr>\n",
       "      <th>5</th>\n",
       "      <td>3</td>\n",
       "      <td>0.2</td>\n",
       "    </tr>\n",
       "  </tbody>\n",
       "</table>\n",
       "</div>"
      ],
      "text/plain": [
       "     N  Perc\n",
       "0  481  38.9\n",
       "1  458  37.1\n",
       "2  234  18.9\n",
       "3   46   3.7\n",
       "4   14   1.1\n",
       "5    3   0.2"
      ]
     },
     "execution_count": 36,
     "metadata": {},
     "output_type": "execute_result"
    }
   ],
   "source": [
    "df.groupby('YEAR').agg(N=('YEAR', 'count'), Perc=('YEAR', lambda x: round(x.shape[0]/df.shape[0]*100, 1))).reset_index(drop=True)"
   ]
  },
  {
   "cell_type": "markdown",
   "metadata": {},
   "source": [
    " # <font color='green'>Все ОК!</font>"
   ]
  },
  {
   "cell_type": "markdown",
   "metadata": {},
   "source": [
    "**Faculty**"
   ]
  },
  {
   "cell_type": "code",
   "execution_count": 41,
   "metadata": {
    "scrolled": true
   },
   "outputs": [
    {
     "data": {
      "text/html": [
       "<div>\n",
       "<style scoped>\n",
       "    .dataframe tbody tr th:only-of-type {\n",
       "        vertical-align: middle;\n",
       "    }\n",
       "\n",
       "    .dataframe tbody tr th {\n",
       "        vertical-align: top;\n",
       "    }\n",
       "\n",
       "    .dataframe thead th {\n",
       "        text-align: right;\n",
       "    }\n",
       "</style>\n",
       "<table border=\"1\" class=\"dataframe\">\n",
       "  <thead>\n",
       "    <tr style=\"text-align: right;\">\n",
       "      <th></th>\n",
       "      <th>N</th>\n",
       "      <th>Perc</th>\n",
       "    </tr>\n",
       "  </thead>\n",
       "  <tbody>\n",
       "    <tr>\n",
       "      <th>0</th>\n",
       "      <td>59</td>\n",
       "      <td>4.8</td>\n",
       "    </tr>\n",
       "    <tr>\n",
       "      <th>1</th>\n",
       "      <td>79</td>\n",
       "      <td>6.4</td>\n",
       "    </tr>\n",
       "    <tr>\n",
       "      <th>2</th>\n",
       "      <td>67</td>\n",
       "      <td>5.4</td>\n",
       "    </tr>\n",
       "    <tr>\n",
       "      <th>3</th>\n",
       "      <td>16</td>\n",
       "      <td>1.3</td>\n",
       "    </tr>\n",
       "    <tr>\n",
       "      <th>4</th>\n",
       "      <td>52</td>\n",
       "      <td>4.2</td>\n",
       "    </tr>\n",
       "    <tr>\n",
       "      <th>5</th>\n",
       "      <td>100</td>\n",
       "      <td>8.1</td>\n",
       "    </tr>\n",
       "    <tr>\n",
       "      <th>6</th>\n",
       "      <td>276</td>\n",
       "      <td>22.3</td>\n",
       "    </tr>\n",
       "    <tr>\n",
       "      <th>7</th>\n",
       "      <td>9</td>\n",
       "      <td>0.7</td>\n",
       "    </tr>\n",
       "    <tr>\n",
       "      <th>8</th>\n",
       "      <td>185</td>\n",
       "      <td>15.0</td>\n",
       "    </tr>\n",
       "    <tr>\n",
       "      <th>9</th>\n",
       "      <td>205</td>\n",
       "      <td>16.6</td>\n",
       "    </tr>\n",
       "    <tr>\n",
       "      <th>10</th>\n",
       "      <td>49</td>\n",
       "      <td>4.0</td>\n",
       "    </tr>\n",
       "    <tr>\n",
       "      <th>11</th>\n",
       "      <td>36</td>\n",
       "      <td>2.9</td>\n",
       "    </tr>\n",
       "    <tr>\n",
       "      <th>12</th>\n",
       "      <td>103</td>\n",
       "      <td>8.3</td>\n",
       "    </tr>\n",
       "  </tbody>\n",
       "</table>\n",
       "</div>"
      ],
      "text/plain": [
       "      N  Perc\n",
       "0    59   4.8\n",
       "1    79   6.4\n",
       "2    67   5.4\n",
       "3    16   1.3\n",
       "4    52   4.2\n",
       "5   100   8.1\n",
       "6   276  22.3\n",
       "7     9   0.7\n",
       "8   185  15.0\n",
       "9   205  16.6\n",
       "10   49   4.0\n",
       "11   36   2.9\n",
       "12  103   8.3"
      ]
     },
     "execution_count": 41,
     "metadata": {},
     "output_type": "execute_result"
    }
   ],
   "source": [
    "df.groupby('FAC').agg(N=('FAC', 'count'), Perc=('FAC', lambda x: round(x.shape[0]/df.shape[0]*100, 1))).reset_index(drop=True)"
   ]
  },
  {
   "cell_type": "markdown",
   "metadata": {},
   "source": [
    " # <font color='green'>Все ОК!</font>"
   ]
  },
  {
   "cell_type": "markdown",
   "metadata": {},
   "source": [
    "**University**"
   ]
  },
  {
   "cell_type": "code",
   "execution_count": 39,
   "metadata": {
    "scrolled": false
   },
   "outputs": [
    {
     "data": {
      "text/html": [
       "<div>\n",
       "<style scoped>\n",
       "    .dataframe tbody tr th:only-of-type {\n",
       "        vertical-align: middle;\n",
       "    }\n",
       "\n",
       "    .dataframe tbody tr th {\n",
       "        vertical-align: top;\n",
       "    }\n",
       "\n",
       "    .dataframe thead th {\n",
       "        text-align: right;\n",
       "    }\n",
       "</style>\n",
       "<table border=\"1\" class=\"dataframe\">\n",
       "  <thead>\n",
       "    <tr style=\"text-align: right;\">\n",
       "      <th></th>\n",
       "      <th>N</th>\n",
       "      <th>Perc</th>\n",
       "    </tr>\n",
       "    <tr>\n",
       "      <th>UN</th>\n",
       "      <th></th>\n",
       "      <th></th>\n",
       "    </tr>\n",
       "  </thead>\n",
       "  <tbody>\n",
       "    <tr>\n",
       "      <th>РГППУ</th>\n",
       "      <td>377</td>\n",
       "      <td>30.5</td>\n",
       "    </tr>\n",
       "    <tr>\n",
       "      <th>УРФУ</th>\n",
       "      <td>139</td>\n",
       "      <td>11.2</td>\n",
       "    </tr>\n",
       "    <tr>\n",
       "      <th>ЧелГУ</th>\n",
       "      <td>520</td>\n",
       "      <td>42.1</td>\n",
       "    </tr>\n",
       "    <tr>\n",
       "      <th>ЮУРГУ</th>\n",
       "      <td>200</td>\n",
       "      <td>16.2</td>\n",
       "    </tr>\n",
       "  </tbody>\n",
       "</table>\n",
       "</div>"
      ],
      "text/plain": [
       "         N  Perc\n",
       "UN              \n",
       "РГППУ  377  30.5\n",
       "УРФУ   139  11.2\n",
       "ЧелГУ  520  42.1\n",
       "ЮУРГУ  200  16.2"
      ]
     },
     "execution_count": 39,
     "metadata": {},
     "output_type": "execute_result"
    }
   ],
   "source": [
    "df.groupby('UN').agg(N=('UN', 'count'), Perc=('UN', lambda x: round(x.shape[0]/df.shape[0]*100, 1)))"
   ]
  },
  {
   "cell_type": "markdown",
   "metadata": {},
   "source": [
    " # <font color='green'>Все ОК!</font>"
   ]
  },
  {
   "cell_type": "markdown",
   "metadata": {},
   "source": [
    "# Table 2"
   ]
  },
  {
   "cell_type": "code",
   "execution_count": 137,
   "metadata": {},
   "outputs": [],
   "source": [
    "columns = ['Extraversion', \n",
    "           'Agreeableness', \n",
    "           'Conscientiousness', \n",
    "           'Neuroticism', \n",
    "           'Openness to experiences', \n",
    "           'Somatic symptoms', \n",
    "           'Psychological distress']"
   ]
  },
  {
   "cell_type": "code",
   "execution_count": 49,
   "metadata": {},
   "outputs": [
    {
     "data": {
      "text/plain": [
       "{'BF_Ext': 'Extraversion',\n",
       " 'BF_Agr': 'Agreeableness',\n",
       " 'BF_Con': 'Conscientiousness',\n",
       " 'BF_Neu': 'Neuroticism',\n",
       " 'BF_Ope': 'Openness to experiences',\n",
       " 'PH_Tot': 'Somatic symptoms',\n",
       " 'DS_Tot': 'Psychological distress'}"
      ]
     },
     "execution_count": 49,
     "metadata": {},
     "output_type": "execute_result"
    }
   ],
   "source": [
    "d = {key: value for key, value in zip(['BF_Ext', 'BF_Agr', 'BF_Con','BF_Neu', 'BF_Ope','PH_Tot', 'DS_Tot'], columns)}\n",
    "d"
   ]
  },
  {
   "cell_type": "code",
   "execution_count": 50,
   "metadata": {},
   "outputs": [],
   "source": [
    "df.rename(d, inplace=True)"
   ]
  },
  {
   "cell_type": "markdown",
   "metadata": {},
   "source": [
    "**M** and **SD**"
   ]
  },
  {
   "cell_type": "code",
   "execution_count": 59,
   "metadata": {
    "scrolled": true
   },
   "outputs": [
    {
     "data": {
      "text/html": [
       "<div>\n",
       "<style scoped>\n",
       "    .dataframe tbody tr th:only-of-type {\n",
       "        vertical-align: middle;\n",
       "    }\n",
       "\n",
       "    .dataframe tbody tr th {\n",
       "        vertical-align: top;\n",
       "    }\n",
       "\n",
       "    .dataframe thead th {\n",
       "        text-align: right;\n",
       "    }\n",
       "</style>\n",
       "<table border=\"1\" class=\"dataframe\">\n",
       "  <thead>\n",
       "    <tr style=\"text-align: right;\">\n",
       "      <th></th>\n",
       "      <th>mean</th>\n",
       "      <th>std</th>\n",
       "    </tr>\n",
       "  </thead>\n",
       "  <tbody>\n",
       "    <tr>\n",
       "      <th>Extraversion</th>\n",
       "      <td>7.28</td>\n",
       "      <td>2.01</td>\n",
       "    </tr>\n",
       "    <tr>\n",
       "      <th>Agreeableness</th>\n",
       "      <td>6.53</td>\n",
       "      <td>1.72</td>\n",
       "    </tr>\n",
       "    <tr>\n",
       "      <th>Conscientiousness</th>\n",
       "      <td>6.39</td>\n",
       "      <td>1.73</td>\n",
       "    </tr>\n",
       "    <tr>\n",
       "      <th>Neuroticism</th>\n",
       "      <td>6.48</td>\n",
       "      <td>2.08</td>\n",
       "    </tr>\n",
       "    <tr>\n",
       "      <th>Openness to experiences</th>\n",
       "      <td>7.50</td>\n",
       "      <td>1.84</td>\n",
       "    </tr>\n",
       "    <tr>\n",
       "      <th>Somatic symptoms</th>\n",
       "      <td>7.58</td>\n",
       "      <td>4.67</td>\n",
       "    </tr>\n",
       "    <tr>\n",
       "      <th>Psychological distress</th>\n",
       "      <td>20.48</td>\n",
       "      <td>12.32</td>\n",
       "    </tr>\n",
       "  </tbody>\n",
       "</table>\n",
       "</div>"
      ],
      "text/plain": [
       "                          mean    std\n",
       "Extraversion              7.28   2.01\n",
       "Agreeableness             6.53   1.72\n",
       "Conscientiousness         6.39   1.73\n",
       "Neuroticism               6.48   2.08\n",
       "Openness to experiences   7.50   1.84\n",
       "Somatic symptoms          7.58   4.67\n",
       "Psychological distress   20.48  12.32"
      ]
     },
     "execution_count": 59,
     "metadata": {},
     "output_type": "execute_result"
    }
   ],
   "source": [
    "df[columns].agg([np.mean, np.std]).T.apply(lambda x: round(x, 2))"
   ]
  },
  {
   "cell_type": "markdown",
   "metadata": {},
   "source": [
    " # <font color='green'>Все ОК!</font>"
   ]
  },
  {
   "cell_type": "markdown",
   "metadata": {},
   "source": [
    "**cor**"
   ]
  },
  {
   "cell_type": "code",
   "execution_count": 81,
   "metadata": {
    "scrolled": true
   },
   "outputs": [
    {
     "data": {
      "text/html": [
       "<div>\n",
       "<style scoped>\n",
       "    .dataframe tbody tr th:only-of-type {\n",
       "        vertical-align: middle;\n",
       "    }\n",
       "\n",
       "    .dataframe tbody tr th {\n",
       "        vertical-align: top;\n",
       "    }\n",
       "\n",
       "    .dataframe thead th {\n",
       "        text-align: right;\n",
       "    }\n",
       "</style>\n",
       "<table border=\"1\" class=\"dataframe\">\n",
       "  <thead>\n",
       "    <tr style=\"text-align: right;\">\n",
       "      <th></th>\n",
       "      <th>Extraversion</th>\n",
       "      <th>Agreeableness</th>\n",
       "      <th>Conscientiousness</th>\n",
       "      <th>Neuroticism</th>\n",
       "      <th>Openness to experiences</th>\n",
       "      <th>Somatic symptoms</th>\n",
       "    </tr>\n",
       "  </thead>\n",
       "  <tbody>\n",
       "    <tr>\n",
       "      <th>Extraversion</th>\n",
       "      <td>NaN</td>\n",
       "      <td>NaN</td>\n",
       "      <td>NaN</td>\n",
       "      <td>NaN</td>\n",
       "      <td>NaN</td>\n",
       "      <td>NaN</td>\n",
       "    </tr>\n",
       "    <tr>\n",
       "      <th>Agreeableness</th>\n",
       "      <td>0.12</td>\n",
       "      <td>NaN</td>\n",
       "      <td>NaN</td>\n",
       "      <td>NaN</td>\n",
       "      <td>NaN</td>\n",
       "      <td>NaN</td>\n",
       "    </tr>\n",
       "    <tr>\n",
       "      <th>Conscientiousness</th>\n",
       "      <td>0.22</td>\n",
       "      <td>0.10</td>\n",
       "      <td>NaN</td>\n",
       "      <td>NaN</td>\n",
       "      <td>NaN</td>\n",
       "      <td>NaN</td>\n",
       "    </tr>\n",
       "    <tr>\n",
       "      <th>Neuroticism</th>\n",
       "      <td>-0.16</td>\n",
       "      <td>-0.05</td>\n",
       "      <td>-0.10</td>\n",
       "      <td>NaN</td>\n",
       "      <td>NaN</td>\n",
       "      <td>NaN</td>\n",
       "    </tr>\n",
       "    <tr>\n",
       "      <th>Openness to experiences</th>\n",
       "      <td>0.13</td>\n",
       "      <td>0.02</td>\n",
       "      <td>0.10</td>\n",
       "      <td>0.05</td>\n",
       "      <td>NaN</td>\n",
       "      <td>NaN</td>\n",
       "    </tr>\n",
       "    <tr>\n",
       "      <th>Somatic symptoms</th>\n",
       "      <td>-0.13</td>\n",
       "      <td>-0.11</td>\n",
       "      <td>-0.15</td>\n",
       "      <td>0.30</td>\n",
       "      <td>0.01</td>\n",
       "      <td>NaN</td>\n",
       "    </tr>\n",
       "    <tr>\n",
       "      <th>Psychological distress</th>\n",
       "      <td>-0.30</td>\n",
       "      <td>-0.15</td>\n",
       "      <td>-0.23</td>\n",
       "      <td>0.48</td>\n",
       "      <td>0.01</td>\n",
       "      <td>0.62</td>\n",
       "    </tr>\n",
       "  </tbody>\n",
       "</table>\n",
       "</div>"
      ],
      "text/plain": [
       "                         Extraversion  Agreeableness  Conscientiousness  \\\n",
       "Extraversion                      NaN            NaN                NaN   \n",
       "Agreeableness                    0.12            NaN                NaN   \n",
       "Conscientiousness                0.22           0.10                NaN   \n",
       "Neuroticism                     -0.16          -0.05              -0.10   \n",
       "Openness to experiences          0.13           0.02               0.10   \n",
       "Somatic symptoms                -0.13          -0.11              -0.15   \n",
       "Psychological distress          -0.30          -0.15              -0.23   \n",
       "\n",
       "                         Neuroticism  Openness to experiences  \\\n",
       "Extraversion                     NaN                      NaN   \n",
       "Agreeableness                    NaN                      NaN   \n",
       "Conscientiousness                NaN                      NaN   \n",
       "Neuroticism                      NaN                      NaN   \n",
       "Openness to experiences         0.05                      NaN   \n",
       "Somatic symptoms                0.30                     0.01   \n",
       "Psychological distress          0.48                     0.01   \n",
       "\n",
       "                         Somatic symptoms  \n",
       "Extraversion                          NaN  \n",
       "Agreeableness                         NaN  \n",
       "Conscientiousness                     NaN  \n",
       "Neuroticism                           NaN  \n",
       "Openness to experiences               NaN  \n",
       "Somatic symptoms                      NaN  \n",
       "Psychological distress               0.62  "
      ]
     },
     "execution_count": 81,
     "metadata": {},
     "output_type": "execute_result"
    }
   ],
   "source": [
    "cor = df[columns].corr().apply(lambda x: round(x, 2))\n",
    "for i, col in enumerate(columns):\n",
    "    cor.loc[col, columns[i:]] = np.nan\n",
    "cor.drop(columns = columns[-1])"
   ]
  },
  {
   "cell_type": "markdown",
   "metadata": {},
   "source": [
    "# Psychological distress -- Neuroticism <font color='red'>не совпадает</font>"
   ]
  },
  {
   "cell_type": "markdown",
   "metadata": {},
   "source": [
    "**pearson**"
   ]
  },
  {
   "cell_type": "code",
   "execution_count": 118,
   "metadata": {},
   "outputs": [
    {
     "data": {
      "text/html": [
       "<div>\n",
       "<style scoped>\n",
       "    .dataframe tbody tr th:only-of-type {\n",
       "        vertical-align: middle;\n",
       "    }\n",
       "\n",
       "    .dataframe tbody tr th {\n",
       "        vertical-align: top;\n",
       "    }\n",
       "\n",
       "    .dataframe thead th {\n",
       "        text-align: right;\n",
       "    }\n",
       "</style>\n",
       "<table border=\"1\" class=\"dataframe\">\n",
       "  <thead>\n",
       "    <tr style=\"text-align: right;\">\n",
       "      <th></th>\n",
       "      <th>Extraversion</th>\n",
       "      <th>Agreeableness</th>\n",
       "      <th>Conscientiousness</th>\n",
       "      <th>Neuroticism</th>\n",
       "      <th>Openness to experiences</th>\n",
       "      <th>Somatic symptoms</th>\n",
       "    </tr>\n",
       "  </thead>\n",
       "  <tbody>\n",
       "    <tr>\n",
       "      <th>Extraversion</th>\n",
       "      <td>nan</td>\n",
       "      <td>nan</td>\n",
       "      <td>nan</td>\n",
       "      <td>nan</td>\n",
       "      <td>nan</td>\n",
       "      <td>nan</td>\n",
       "    </tr>\n",
       "    <tr>\n",
       "      <th>Agreeableness</th>\n",
       "      <td>*</td>\n",
       "      <td>nan</td>\n",
       "      <td>nan</td>\n",
       "      <td>nan</td>\n",
       "      <td>nan</td>\n",
       "      <td>nan</td>\n",
       "    </tr>\n",
       "    <tr>\n",
       "      <th>Conscientiousness</th>\n",
       "      <td>*</td>\n",
       "      <td>*</td>\n",
       "      <td>nan</td>\n",
       "      <td>nan</td>\n",
       "      <td>nan</td>\n",
       "      <td>nan</td>\n",
       "    </tr>\n",
       "    <tr>\n",
       "      <th>Neuroticism</th>\n",
       "      <td>*</td>\n",
       "      <td>0.1</td>\n",
       "      <td>*</td>\n",
       "      <td>nan</td>\n",
       "      <td>nan</td>\n",
       "      <td>nan</td>\n",
       "    </tr>\n",
       "    <tr>\n",
       "      <th>Openness to experiences</th>\n",
       "      <td>*</td>\n",
       "      <td>0.41</td>\n",
       "      <td>*</td>\n",
       "      <td>0.09</td>\n",
       "      <td>nan</td>\n",
       "      <td>nan</td>\n",
       "    </tr>\n",
       "    <tr>\n",
       "      <th>Somatic symptoms</th>\n",
       "      <td>*</td>\n",
       "      <td>*</td>\n",
       "      <td>*</td>\n",
       "      <td>*</td>\n",
       "      <td>0.63</td>\n",
       "      <td>nan</td>\n",
       "    </tr>\n",
       "    <tr>\n",
       "      <th>Psychological distress</th>\n",
       "      <td>*</td>\n",
       "      <td>*</td>\n",
       "      <td>*</td>\n",
       "      <td>*</td>\n",
       "      <td>0.72</td>\n",
       "      <td>*</td>\n",
       "    </tr>\n",
       "  </tbody>\n",
       "</table>\n",
       "</div>"
      ],
      "text/plain": [
       "                        Extraversion Agreeableness Conscientiousness  \\\n",
       "Extraversion                     nan           nan               nan   \n",
       "Agreeableness                      *           nan               nan   \n",
       "Conscientiousness                  *             *               nan   \n",
       "Neuroticism                        *           0.1                 *   \n",
       "Openness to experiences            *          0.41                 *   \n",
       "Somatic symptoms                   *             *                 *   \n",
       "Psychological distress             *             *                 *   \n",
       "\n",
       "                        Neuroticism Openness to experiences Somatic symptoms  \n",
       "Extraversion                    nan                     nan              nan  \n",
       "Agreeableness                   nan                     nan              nan  \n",
       "Conscientiousness               nan                     nan              nan  \n",
       "Neuroticism                     nan                     nan              nan  \n",
       "Openness to experiences        0.09                     nan              nan  \n",
       "Somatic symptoms                  *                    0.63              nan  \n",
       "Psychological distress            *                    0.72                *  "
      ]
     },
     "execution_count": 118,
     "metadata": {},
     "output_type": "execute_result"
    }
   ],
   "source": [
    "from scipy.stats import pearsonr\n",
    "pearson = pd.DataFrame()\n",
    "for col in df[columns]:\n",
    "    pearson = pd.concat([pearson, df[columns].apply(lambda x: pearsonr(df[col], x)[1]).to_frame().rename(columns={0: col})], axis=1)\n",
    "pearson.rename(columns={0: name for name in columns}, inplace=True)\n",
    "for i, col in enumerate(columns):\n",
    "    pearson.loc[col, columns[i:]] = np.nan\n",
    "pearson.drop(columns = columns[-1]).apply(lambda x: np.where(x < 0.001, '*', round(x, 2)))\n",
    "# * p<0.001"
   ]
  },
  {
   "cell_type": "markdown",
   "metadata": {},
   "source": [
    " # <font color='green'>Все ОК!</font>"
   ]
  },
  {
   "cell_type": "markdown",
   "metadata": {},
   "source": [
    "# Effects of sex and age"
   ]
  },
  {
   "cell_type": "code",
   "execution_count": 138,
   "metadata": {},
   "outputs": [],
   "source": [
    "from scipy.stats import ttest_ind\n",
    "columns.append('SEX (1=male)')\n",
    "def t_test(col):\n",
    "    return ttest_ind(df.loc[df['SEX (1=male)'] == 1, col], df.loc[df['SEX (1=male)'] == 0, col])"
   ]
  },
  {
   "cell_type": "code",
   "execution_count": 139,
   "metadata": {
    "scrolled": true
   },
   "outputs": [
    {
     "data": {
      "text/plain": [
       "Ttest_indResult(statistic=-6.275156515747765, pvalue=4.825248828216943e-10)"
      ]
     },
     "execution_count": 139,
     "metadata": {},
     "output_type": "execute_result"
    }
   ],
   "source": [
    "# Somatic symptoms\n",
    "t_test('Somatic symptoms')"
   ]
  },
  {
   "cell_type": "code",
   "execution_count": 141,
   "metadata": {
    "scrolled": true
   },
   "outputs": [
    {
     "data": {
      "text/plain": [
       "Ttest_indResult(statistic=-4.662783380747374, pvalue=3.4588916341086303e-06)"
      ]
     },
     "execution_count": 141,
     "metadata": {},
     "output_type": "execute_result"
    }
   ],
   "source": [
    "# Psychological distress\n",
    "t_test('Psychological distress')"
   ]
  },
  {
   "cell_type": "markdown",
   "metadata": {},
   "source": [
    "**Какой тест был не понятно, но статистическая разница есть**"
   ]
  },
  {
   "cell_type": "markdown",
   "metadata": {},
   "source": [
    "# Regression analysis"
   ]
  },
  {
   "cell_type": "code",
   "execution_count": 142,
   "metadata": {},
   "outputs": [],
   "source": [
    "import statsmodels.api as sm"
   ]
  },
  {
   "cell_type": "code",
   "execution_count": 150,
   "metadata": {
    "scrolled": false
   },
   "outputs": [
    {
     "data": {
      "text/html": [
       "<table class=\"simpletable\">\n",
       "<caption>OLS Regression Results</caption>\n",
       "<tr>\n",
       "  <th>Dep. Variable:</th>    <td>Psychological distress</td> <th>  R-squared:         </th> <td>   0.525</td> \n",
       "</tr>\n",
       "<tr>\n",
       "  <th>Model:</th>                      <td>OLS</td>          <th>  Adj. R-squared:    </th> <td>   0.522</td> \n",
       "</tr>\n",
       "<tr>\n",
       "  <th>Method:</th>                <td>Least Squares</td>     <th>  F-statistic:       </th> <td>   226.1</td> \n",
       "</tr>\n",
       "<tr>\n",
       "  <th>Date:</th>                <td>Sun, 16 May 2021</td>    <th>  Prob (F-statistic):</th> <td>1.67e-194</td>\n",
       "</tr>\n",
       "<tr>\n",
       "  <th>Time:</th>                    <td>11:59:00</td>        <th>  Log-Likelihood:    </th> <td> -4397.4</td> \n",
       "</tr>\n",
       "<tr>\n",
       "  <th>No. Observations:</th>         <td>  1236</td>         <th>  AIC:               </th> <td>   8809.</td> \n",
       "</tr>\n",
       "<tr>\n",
       "  <th>Df Residuals:</th>             <td>  1229</td>         <th>  BIC:               </th> <td>   8845.</td> \n",
       "</tr>\n",
       "<tr>\n",
       "  <th>Df Model:</th>                 <td>     6</td>         <th>                     </th>     <td> </td>    \n",
       "</tr>\n",
       "<tr>\n",
       "  <th>Covariance Type:</th>         <td>nonrobust</td>       <th>                     </th>     <td> </td>    \n",
       "</tr>\n",
       "</table>\n",
       "<table class=\"simpletable\">\n",
       "<tr>\n",
       "             <td></td>                <th>coef</th>     <th>std err</th>      <th>t</th>      <th>P>|t|</th>  <th>[0.025</th>    <th>0.975]</th>  \n",
       "</tr>\n",
       "<tr>\n",
       "  <th>const</th>                   <td>   11.7835</td> <td>    1.908</td> <td>    6.177</td> <td> 0.000</td> <td>    8.041</td> <td>   15.526</td>\n",
       "</tr>\n",
       "<tr>\n",
       "  <th>Extraversion</th>            <td>   -1.0012</td> <td>    0.126</td> <td>   -7.925</td> <td> 0.000</td> <td>   -1.249</td> <td>   -0.753</td>\n",
       "</tr>\n",
       "<tr>\n",
       "  <th>Agreeableness</th>           <td>   -0.3719</td> <td>    0.143</td> <td>   -2.608</td> <td> 0.009</td> <td>   -0.652</td> <td>   -0.092</td>\n",
       "</tr>\n",
       "<tr>\n",
       "  <th>Conscientiousness</th>       <td>   -0.6028</td> <td>    0.145</td> <td>   -4.145</td> <td> 0.000</td> <td>   -0.888</td> <td>   -0.318</td>\n",
       "</tr>\n",
       "<tr>\n",
       "  <th>Neuroticism</th>             <td>    1.7790</td> <td>    0.124</td> <td>   14.398</td> <td> 0.000</td> <td>    1.537</td> <td>    2.021</td>\n",
       "</tr>\n",
       "<tr>\n",
       "  <th>Openness to experiences</th> <td>    0.1291</td> <td>    0.133</td> <td>    0.969</td> <td> 0.333</td> <td>   -0.132</td> <td>    0.390</td>\n",
       "</tr>\n",
       "<tr>\n",
       "  <th>Somatic symptoms</th>        <td>    1.2888</td> <td>    0.055</td> <td>   23.376</td> <td> 0.000</td> <td>    1.181</td> <td>    1.397</td>\n",
       "</tr>\n",
       "</table>\n",
       "<table class=\"simpletable\">\n",
       "<tr>\n",
       "  <th>Omnibus:</th>       <td>39.076</td> <th>  Durbin-Watson:     </th> <td>   1.898</td>\n",
       "</tr>\n",
       "<tr>\n",
       "  <th>Prob(Omnibus):</th> <td> 0.000</td> <th>  Jarque-Bera (JB):  </th> <td>  43.457</td>\n",
       "</tr>\n",
       "<tr>\n",
       "  <th>Skew:</th>          <td> 0.406</td> <th>  Prob(JB):          </th> <td>3.66e-10</td>\n",
       "</tr>\n",
       "<tr>\n",
       "  <th>Kurtosis:</th>      <td> 3.431</td> <th>  Cond. No.          </th> <td>    137.</td>\n",
       "</tr>\n",
       "</table><br/><br/>Warnings:<br/>[1] Standard Errors assume that the covariance matrix of the errors is correctly specified."
      ],
      "text/plain": [
       "<class 'statsmodels.iolib.summary.Summary'>\n",
       "\"\"\"\n",
       "                              OLS Regression Results                              \n",
       "==================================================================================\n",
       "Dep. Variable:     Psychological distress   R-squared:                       0.525\n",
       "Model:                                OLS   Adj. R-squared:                  0.522\n",
       "Method:                     Least Squares   F-statistic:                     226.1\n",
       "Date:                    Sun, 16 May 2021   Prob (F-statistic):          1.67e-194\n",
       "Time:                            11:59:00   Log-Likelihood:                -4397.4\n",
       "No. Observations:                    1236   AIC:                             8809.\n",
       "Df Residuals:                        1229   BIC:                             8845.\n",
       "Df Model:                               6                                         \n",
       "Covariance Type:                nonrobust                                         \n",
       "===========================================================================================\n",
       "                              coef    std err          t      P>|t|      [0.025      0.975]\n",
       "-------------------------------------------------------------------------------------------\n",
       "const                      11.7835      1.908      6.177      0.000       8.041      15.526\n",
       "Extraversion               -1.0012      0.126     -7.925      0.000      -1.249      -0.753\n",
       "Agreeableness              -0.3719      0.143     -2.608      0.009      -0.652      -0.092\n",
       "Conscientiousness          -0.6028      0.145     -4.145      0.000      -0.888      -0.318\n",
       "Neuroticism                 1.7790      0.124     14.398      0.000       1.537       2.021\n",
       "Openness to experiences     0.1291      0.133      0.969      0.333      -0.132       0.390\n",
       "Somatic symptoms            1.2888      0.055     23.376      0.000       1.181       1.397\n",
       "==============================================================================\n",
       "Omnibus:                       39.076   Durbin-Watson:                   1.898\n",
       "Prob(Omnibus):                  0.000   Jarque-Bera (JB):               43.457\n",
       "Skew:                           0.406   Prob(JB):                     3.66e-10\n",
       "Kurtosis:                       3.431   Cond. No.                         137.\n",
       "==============================================================================\n",
       "\n",
       "Warnings:\n",
       "[1] Standard Errors assume that the covariance matrix of the errors is correctly specified.\n",
       "\"\"\""
      ]
     },
     "execution_count": 150,
     "metadata": {},
     "output_type": "execute_result"
    }
   ],
   "source": [
    "# Результаты со свободным членом\n",
    "X = df[columns].drop(columns=['Psychological distress', 'SEX (1=male)'])\n",
    "X = sm.add_constant(X) \n",
    "y = df['Psychological distress']\n",
    "model = sm.OLS(y, X).fit()\n",
    "model.summary()"
   ]
  },
  {
   "cell_type": "code",
   "execution_count": 151,
   "metadata": {},
   "outputs": [
    {
     "data": {
      "text/html": [
       "<table class=\"simpletable\">\n",
       "<caption>OLS Regression Results</caption>\n",
       "<tr>\n",
       "  <th>Dep. Variable:</th>    <td>Psychological distress</td> <th>  R-squared (uncentered):</th>      <td>   0.870</td>\n",
       "</tr>\n",
       "<tr>\n",
       "  <th>Model:</th>                      <td>OLS</td>          <th>  Adj. R-squared (uncentered):</th> <td>   0.869</td>\n",
       "</tr>\n",
       "<tr>\n",
       "  <th>Method:</th>                <td>Least Squares</td>     <th>  F-statistic:       </th>          <td>   1371.</td>\n",
       "</tr>\n",
       "<tr>\n",
       "  <th>Date:</th>                <td>Sun, 16 May 2021</td>    <th>  Prob (F-statistic):</th>           <td>  0.00</td> \n",
       "</tr>\n",
       "<tr>\n",
       "  <th>Time:</th>                    <td>12:00:32</td>        <th>  Log-Likelihood:    </th>          <td> -4416.2</td>\n",
       "</tr>\n",
       "<tr>\n",
       "  <th>No. Observations:</th>         <td>  1236</td>         <th>  AIC:               </th>          <td>   8844.</td>\n",
       "</tr>\n",
       "<tr>\n",
       "  <th>Df Residuals:</th>             <td>  1230</td>         <th>  BIC:               </th>          <td>   8875.</td>\n",
       "</tr>\n",
       "<tr>\n",
       "  <th>Df Model:</th>                 <td>     6</td>         <th>                     </th>              <td> </td>   \n",
       "</tr>\n",
       "<tr>\n",
       "  <th>Covariance Type:</th>         <td>nonrobust</td>       <th>                     </th>              <td> </td>   \n",
       "</tr>\n",
       "</table>\n",
       "<table class=\"simpletable\">\n",
       "<tr>\n",
       "             <td></td>                <th>coef</th>     <th>std err</th>      <th>t</th>      <th>P>|t|</th>  <th>[0.025</th>    <th>0.975]</th>  \n",
       "</tr>\n",
       "<tr>\n",
       "  <th>Extraversion</th>            <td>   -0.7260</td> <td>    0.120</td> <td>   -6.050</td> <td> 0.000</td> <td>   -0.961</td> <td>   -0.491</td>\n",
       "</tr>\n",
       "<tr>\n",
       "  <th>Agreeableness</th>           <td>    0.0060</td> <td>    0.131</td> <td>    0.046</td> <td> 0.963</td> <td>   -0.250</td> <td>    0.262</td>\n",
       "</tr>\n",
       "<tr>\n",
       "  <th>Conscientiousness</th>       <td>   -0.2684</td> <td>    0.137</td> <td>   -1.959</td> <td> 0.050</td> <td>   -0.537</td> <td>    0.000</td>\n",
       "</tr>\n",
       "<tr>\n",
       "  <th>Neuroticism</th>             <td>    2.0882</td> <td>    0.115</td> <td>   18.211</td> <td> 0.000</td> <td>    1.863</td> <td>    2.313</td>\n",
       "</tr>\n",
       "<tr>\n",
       "  <th>Openness to experiences</th> <td>    0.4523</td> <td>    0.124</td> <td>    3.639</td> <td> 0.000</td> <td>    0.208</td> <td>    0.696</td>\n",
       "</tr>\n",
       "<tr>\n",
       "  <th>Somatic symptoms</th>        <td>    1.3625</td> <td>    0.055</td> <td>   24.939</td> <td> 0.000</td> <td>    1.255</td> <td>    1.470</td>\n",
       "</tr>\n",
       "</table>\n",
       "<table class=\"simpletable\">\n",
       "<tr>\n",
       "  <th>Omnibus:</th>       <td>36.653</td> <th>  Durbin-Watson:     </th> <td>   1.878</td>\n",
       "</tr>\n",
       "<tr>\n",
       "  <th>Prob(Omnibus):</th> <td> 0.000</td> <th>  Jarque-Bera (JB):  </th> <td>  40.115</td>\n",
       "</tr>\n",
       "<tr>\n",
       "  <th>Skew:</th>          <td> 0.398</td> <th>  Prob(JB):          </th> <td>1.95e-09</td>\n",
       "</tr>\n",
       "<tr>\n",
       "  <th>Kurtosis:</th>      <td> 3.383</td> <th>  Cond. No.          </th> <td>    10.8</td>\n",
       "</tr>\n",
       "</table><br/><br/>Warnings:<br/>[1] Standard Errors assume that the covariance matrix of the errors is correctly specified."
      ],
      "text/plain": [
       "<class 'statsmodels.iolib.summary.Summary'>\n",
       "\"\"\"\n",
       "                                   OLS Regression Results                                  \n",
       "===========================================================================================\n",
       "Dep. Variable:     Psychological distress   R-squared (uncentered):                   0.870\n",
       "Model:                                OLS   Adj. R-squared (uncentered):              0.869\n",
       "Method:                     Least Squares   F-statistic:                              1371.\n",
       "Date:                    Sun, 16 May 2021   Prob (F-statistic):                        0.00\n",
       "Time:                            12:00:32   Log-Likelihood:                         -4416.2\n",
       "No. Observations:                    1236   AIC:                                      8844.\n",
       "Df Residuals:                        1230   BIC:                                      8875.\n",
       "Df Model:                               6                                                  \n",
       "Covariance Type:                nonrobust                                                  \n",
       "===========================================================================================\n",
       "                              coef    std err          t      P>|t|      [0.025      0.975]\n",
       "-------------------------------------------------------------------------------------------\n",
       "Extraversion               -0.7260      0.120     -6.050      0.000      -0.961      -0.491\n",
       "Agreeableness               0.0060      0.131      0.046      0.963      -0.250       0.262\n",
       "Conscientiousness          -0.2684      0.137     -1.959      0.050      -0.537       0.000\n",
       "Neuroticism                 2.0882      0.115     18.211      0.000       1.863       2.313\n",
       "Openness to experiences     0.4523      0.124      3.639      0.000       0.208       0.696\n",
       "Somatic symptoms            1.3625      0.055     24.939      0.000       1.255       1.470\n",
       "==============================================================================\n",
       "Omnibus:                       36.653   Durbin-Watson:                   1.878\n",
       "Prob(Omnibus):                  0.000   Jarque-Bera (JB):               40.115\n",
       "Skew:                           0.398   Prob(JB):                     1.95e-09\n",
       "Kurtosis:                       3.383   Cond. No.                         10.8\n",
       "==============================================================================\n",
       "\n",
       "Warnings:\n",
       "[1] Standard Errors assume that the covariance matrix of the errors is correctly specified.\n",
       "\"\"\""
      ]
     },
     "execution_count": 151,
     "metadata": {},
     "output_type": "execute_result"
    }
   ],
   "source": [
    "# Результаты без свободного члена\n",
    "X = df[columns].drop(columns=['Psychological distress', 'SEX (1=male)'])\n",
    "y = df['Psychological distress']\n",
    "model = sm.OLS(y, X).fit()\n",
    "model.summary()"
   ]
  },
  {
   "cell_type": "markdown",
   "metadata": {},
   "source": [
    "## Если строить со свободным членом (intercept), то $R^2$ становится близким к 0.5, что меньше, $R^2$ у модели без него. Есть ли смысл оставлять свободный член?\n"
   ]
  },
  {
   "cell_type": "code",
   "execution_count": null,
   "metadata": {},
   "outputs": [],
   "source": []
  }
 ],
 "metadata": {
  "kernelspec": {
   "display_name": "Python 3",
   "language": "python",
   "name": "python3"
  },
  "language_info": {
   "codemirror_mode": {
    "name": "ipython",
    "version": 3
   },
   "file_extension": ".py",
   "mimetype": "text/x-python",
   "name": "python",
   "nbconvert_exporter": "python",
   "pygments_lexer": "ipython3",
   "version": "3.8.3"
  }
 },
 "nbformat": 4,
 "nbformat_minor": 4
}
