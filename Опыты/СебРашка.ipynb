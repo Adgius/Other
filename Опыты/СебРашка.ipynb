{
 "cells": [
  {
   "cell_type": "code",
   "execution_count": 1,
   "metadata": {},
   "outputs": [],
   "source": [
    "import numpy as np\n",
    "from scipy.stats import norm\n",
    "import matplotlib.pyplot as plt"
   ]
  },
  {
   "cell_type": "markdown",
   "metadata": {},
   "source": [
    "# Генерация выборки"
   ]
  },
  {
   "cell_type": "code",
   "execution_count": 2,
   "metadata": {},
   "outputs": [],
   "source": [
    "def gen(n, mean_1, mean_2):\n",
    "    x_1=norm.rvs(size=n, loc=mean_1, scale=0.5)\n",
    "    x_1=np.append(x_1, norm.rvs(size=n, loc=mean_2, scale=0.5))\n",
    "    x_2=norm.rvs(size=n, loc=mean_1, scale=0.5)\n",
    "    x_2=np.append(x_2, norm.rvs(size=n, loc=mean_2, scale=0.5))\n",
    "    return(x_1, x_2)"
   ]
  },
  {
   "cell_type": "code",
   "execution_count": 3,
   "metadata": {},
   "outputs": [],
   "source": [
    "x_1, x_2 = gen(20, 2 , 3)"
   ]
  },
  {
   "cell_type": "code",
   "execution_count": 4,
   "metadata": {},
   "outputs": [],
   "source": [
    "X=np.array([x_1, x_2])\n",
    "y=np.repeat([-1,1], 20)"
   ]
  },
  {
   "cell_type": "code",
   "execution_count": 5,
   "metadata": {},
   "outputs": [
    {
     "data": {
      "text/plain": [
       "Text(0, 0.5, '$x_2$')"
      ]
     },
     "execution_count": 5,
     "metadata": {},
     "output_type": "execute_result"
    },
    {
     "data": {
      "image/png": "[encoded data removed]",
      "text/plain": [
       "<Figure size 432x288 with 1 Axes>"
      ]
     },
     "metadata": {
      "needs_background": "light"
     },
     "output_type": "display_data"
    }
   ],
   "source": [
    "fig, ax = plt.subplots()\n",
    "ax.scatter(x_1[:20], x_2[:20], c = [[0.1, 0.63, 0.55]], label='-1')\n",
    "ax.scatter(x_1[20:], x_2[20:], c = '#ad09a3', label='1')\n",
    "ax.legend()\n",
    "ax.set_xlabel('$x_1$')\n",
    "ax.set_ylabel('$x_2$')"
   ]
  },
  {
   "cell_type": "markdown",
   "metadata": {},
   "source": [
    "# Обычный перцептрон"
   ]
  },
  {
   "cell_type": "code",
   "execution_count": 6,
   "metadata": {},
   "outputs": [],
   "source": [
    "class Perceptron():\n",
    "    \n",
    "    def __init__(self, eta=0.1, n_iter=100):\n",
    "        self.eta = 0.01\n",
    "        self.n_iter = n_iter\n",
    "    \n",
    "    def fit(self, X, y):\n",
    "        self.w = np.zeros(1 + X.shape[0])\n",
    "        self.errors = []\n",
    "        \n",
    "        for _ in range(self.n_iter):\n",
    "            errors = 0\n",
    "            for i in range(X.shape[1]):\n",
    "                delta_w = self.eta * (y[i] - self.predict(X[:,i]))\n",
    "                self.w[1:] += delta_w * X[:,i]\n",
    "                self.w[0] += delta_w\n",
    "                errors += int(delta_w !=0)\n",
    "            self.errors.append(errors)\n",
    "        \n",
    "    def f(self, X):\n",
    "        return(np.dot(self.w[1:],X) + self.w[0])\n",
    "    \n",
    "    def predict(self, X):\n",
    "        return(np.where(self.f(X) >= 0, 1, -1))\n",
    "        \n"
   ]
  },
  {
   "cell_type": "code",
   "execution_count": 7,
   "metadata": {},
   "outputs": [],
   "source": [
    "model = Perceptron()"
   ]
  },
  {
   "cell_type": "code",
   "execution_count": 8,
   "metadata": {
    "scrolled": true
   },
   "outputs": [],
   "source": [
    "model.fit(X,y)"
   ]
  },
  {
   "cell_type": "code",
   "execution_count": 9,
   "metadata": {
    "scrolled": true
   },
   "outputs": [
    {
     "data": {
      "text/plain": [
       "array([[0.3032133 , 0.30779769, 0.31238208, ..., 4.87385474, 4.87843913,\n",
       "        4.88302353],\n",
       "       [0.13719741, 0.14218287, 0.14716833, ..., 5.10770496, 5.11269042,\n",
       "        5.11767589]])"
      ]
     },
     "execution_count": 9,
     "metadata": {},
     "output_type": "execute_result"
    }
   ],
   "source": [
    "xx1=np.linspace(x_1.min()-1, x_1.max()+1, 1000)\n",
    "xx2=np.linspace(x_2.min()-1, x_2.max()+1, 1000)\n",
    "XX=np.array([xx1, xx2])\n",
    "XX"
   ]
  },
  {
   "cell_type": "code",
   "execution_count": 10,
   "metadata": {},
   "outputs": [
    {
     "data": {
      "text/plain": [
       "array([-0.6       ,  0.09353135,  0.14928809])"
      ]
     },
     "execution_count": 10,
     "metadata": {},
     "output_type": "execute_result"
    }
   ],
   "source": [
    "model.w"
   ]
  },
  {
   "cell_type": "code",
   "execution_count": 11,
   "metadata": {},
   "outputs": [],
   "source": [
    "yy=[]\n",
    "for x1 in XX[0]:\n",
    "    for x2 in XX[1]:\n",
    "        if model.predict([x1,x2]) == 1:\n",
    "            yy.append([x1,x2])\n",
    "            break"
   ]
  },
  {
   "cell_type": "code",
   "execution_count": 12,
   "metadata": {},
   "outputs": [],
   "source": [
    "yy=np.array(yy[:800]).T"
   ]
  },
  {
   "cell_type": "code",
   "execution_count": 13,
   "metadata": {},
   "outputs": [
    {
     "data": {
      "text/plain": [
       "Text(0, 0.5, '$x_2$')"
      ]
     },
     "execution_count": 13,
     "metadata": {},
     "output_type": "execute_result"
    },
    {
     "data": {
      "image/png": "[encoded data removed]",
      "text/plain": [
       "<Figure size 432x288 with 1 Axes>"
      ]
     },
     "metadata": {
      "needs_background": "light"
     },
     "output_type": "display_data"
    }
   ],
   "source": [
    "fig, ax = plt.subplots()\n",
    "ax.scatter(x_1[:20], x_2[:20], c = [[0.1, 0.63, 0.55]], label='-1')\n",
    "ax.scatter(x_1[20:], x_2[20:], c = '#ad09a3', label='1')\n",
    "ax.legend()\n",
    "plt.plot(yy[0],yy[1], linestyle = '--', c='red')\n",
    "ax.set_xlabel('$x_1$')\n",
    "ax.set_ylabel('$x_2$')"
   ]
  },
  {
   "cell_type": "markdown",
   "metadata": {},
   "source": [
    "# ADALIN"
   ]
  },
  {
   "cell_type": "markdown",
   "metadata": {},
   "source": [
    "$$J= {1\\over 2} \\sum(y_i-y_p)^2={1\\over 2} \\sum(y_i-\\omega_2 x_2-\\omega_1 x_1-\\omega_0)^2$$"
   ]
  },
  {
   "cell_type": "markdown",
   "metadata": {},
   "source": [
    "$$\\Delta \\omega _j = -\\eta \\bigtriangledown J(\\omega)$$"
   ]
  },
  {
   "cell_type": "markdown",
   "metadata": {},
   "source": [
    "$$\\Delta \\omega _2 = -\\eta {\\delta J \\over \\delta \\omega_2}=\\eta \\sum(y_i-\\omega_2 x_2-\\omega_1 x_1-\\omega_0)x_2$$"
   ]
  },
  {
   "cell_type": "markdown",
   "metadata": {},
   "source": [
    "$$\\Delta \\omega _1 = -\\eta {\\delta J \\over \\delta \\omega_1}=\\eta \\sum(y_i-\\omega_2 x_2-\\omega_1 x_1-\\omega_0)x_1$$"
   ]
  },
  {
   "cell_type": "code",
   "execution_count": 14,
   "metadata": {},
   "outputs": [],
   "source": [
    "class Adalin():\n",
    "    \n",
    "    def __init__(self, eta=0.01, n_iter=1000):\n",
    "        self.eta = 0.001\n",
    "        self.n_iter=n_iter\n",
    "    \n",
    "    def fit(self, X, y):\n",
    "        self.w=np.zeros(1+X.shape[0])\n",
    "        \n",
    "        for i in range(self.n_iter):\n",
    "            self.w[1:] += self.eta*(y-self.f(X)).dot(X.T)\n",
    "            self.w[0] += self.eta*(y-self.f(X)).sum()\n",
    "    \n",
    "    def f(self, X):\n",
    "        return(np.dot(self.w[1:],X)+self.w[0])\n",
    "    \n",
    "    \n",
    "    def activation(self, X):\n",
    "        return self.f(X)\n",
    "    \n",
    "    def predict(self, X):\n",
    "        return np.where(self.activation(X)>=0, 1, -1)"
   ]
  },
  {
   "cell_type": "markdown",
   "metadata": {},
   "source": [
    "$$\\begin{pmatrix}\n",
    "x_{11}&x_{21}\\\\\n",
    "x_{12}&x_{22}\\\\\n",
    "...&...\\\\\n",
    "x_{1n}&x_{2n}\n",
    "\\end{pmatrix} \n",
    "\\times\n",
    "\\begin{pmatrix}\n",
    "\\omega_1\\\\\n",
    "\\omega_2\\\\\n",
    "\\end{pmatrix}\n",
    "=\n",
    "\\begin{pmatrix}\n",
    "x_{11}\\omega_1+x_{21}\\omega_2\\\\\n",
    "x_{12}\\omega_1+x_{22}\\omega_2\\\\\n",
    "...\\\\\n",
    "x_{1n}\\omega_1+x_{2n}\\omega_2\\\\\n",
    "\\end{pmatrix} \n",
    "$$"
   ]
  },
  {
   "cell_type": "markdown",
   "metadata": {},
   "source": [
    "$$\n",
    "\\begin{pmatrix}\n",
    "x_{11}&x_{12}&...&x_{1n}\\\\\n",
    "x_{21}&x_{22}&...&x_{2n}\\\\\n",
    "\\end{pmatrix} \n",
    "\\times\n",
    "\\begin{pmatrix}\n",
    "y_1\\\\\n",
    "y_2\\\\\n",
    "...\\\\\n",
    "y_n\n",
    "\\end{pmatrix}\n",
    "=\n",
    "\\begin{pmatrix}\n",
    "x_{11}y_1+x_{12}y_2+...+x_{1n}y_n\\\\\n",
    "x_{21}y_1+x_{22}y_2+...+x_{2n}y_n\\\\\n",
    "\\end{pmatrix}\n",
    "$$\n"
   ]
  },
  {
   "cell_type": "code",
   "execution_count": 15,
   "metadata": {},
   "outputs": [],
   "source": [
    "model = Adalin()"
   ]
  },
  {
   "cell_type": "code",
   "execution_count": 16,
   "metadata": {},
   "outputs": [],
   "source": [
    "model.fit(X,y)"
   ]
  },
  {
   "cell_type": "code",
   "execution_count": 17,
   "metadata": {},
   "outputs": [
    {
     "data": {
      "text/plain": [
       "array([[0.3032133 , 0.30779769, 0.31238208, ..., 4.87385474, 4.87843913,\n",
       "        4.88302353],\n",
       "       [0.13719741, 0.14218287, 0.14716833, ..., 5.10770496, 5.11269042,\n",
       "        5.11767589]])"
      ]
     },
     "execution_count": 17,
     "metadata": {},
     "output_type": "execute_result"
    }
   ],
   "source": [
    "xx1=np.linspace(x_1.min()-1, x_1.max()+1, 1000)\n",
    "xx2=np.linspace(x_2.min()-1, x_2.max()+1, 1000)\n",
    "XX=np.array([xx1, xx2])\n",
    "XX"
   ]
  },
  {
   "cell_type": "code",
   "execution_count": 19,
   "metadata": {},
   "outputs": [],
   "source": [
    "yy=[]\n",
    "for x1 in XX[0]:\n",
    "    for x2 in XX[1]:\n",
    "        if model.predict([x1,x2]) == 1:\n",
    "            yy.append([x1,x2])\n",
    "            break\n",
    "yy=np.array(yy[:800]).T"
   ]
  },
  {
   "cell_type": "code",
   "execution_count": 20,
   "metadata": {
    "scrolled": true
   },
   "outputs": [
    {
     "data": {
      "text/plain": [
       "Text(0, 0.5, '$x_2$')"
      ]
     },
     "execution_count": 20,
     "metadata": {},
     "output_type": "execute_result"
    },
    {
     "data": {
      "image/png": "[encoded data removed]",
      "text/plain": [
       "<Figure size 432x288 with 1 Axes>"
      ]
     },
     "metadata": {
      "needs_background": "light"
     },
     "output_type": "display_data"
    }
   ],
   "source": [
    "fig, ax = plt.subplots()\n",
    "ax.scatter(x_1[:20], x_2[:20], c = [[0.1, 0.63, 0.55]], label='-1')\n",
    "ax.scatter(x_1[20:], x_2[20:], c = '#ad09a3', label='1')\n",
    "ax.legend()\n",
    "plt.plot(yy[0],yy[1], linestyle = '--', c='red')\n",
    "ax.set_xlabel('$x_1$')\n",
    "ax.set_ylabel('$x_2$')"
   ]
  },
  {
   "cell_type": "markdown",
   "metadata": {},
   "source": [
    "# Logistic Regressor + L-2 reg"
   ]
  },
  {
   "cell_type": "markdown",
   "metadata": {},
   "source": [
    "$$J= \\sum[(y^{(i)}log(activation)+(1-y^{(i)})log(1-activation)]$$"
   ]
  },
  {
   "cell_type": "markdown",
   "metadata": {},
   "source": [
    "$$J={1\\over l} \\sum log[1+e^{-y_i(\\omega_1 x_1 + \\omega_2 x_2 + \\omega_0)}] + {1\\over 2}C||w||^2$$"
   ]
  },
  {
   "cell_type": "markdown",
   "metadata": {},
   "source": [
    "$$\\Delta \\omega _j = \\eta \\bigtriangledown J(\\omega)$$"
   ]
  },
  {
   "cell_type": "markdown",
   "metadata": {},
   "source": [
    "$${\\delta J \\over \\delta \\omega_2}={1\\over l} \\sum y_i x_2[1-{1\\over1+e^{-y_i(\\omega_1 x_1 + \\omega_2 x_2 + \\omega_0)}}]-C \\omega_2$$"
   ]
  },
  {
   "cell_type": "code",
   "execution_count": 117,
   "metadata": {},
   "outputs": [],
   "source": [
    "class LogReg():\n",
    "    \n",
    "    def __init__(self, eta=0.01, n_iter=1000, C=0.001):\n",
    "        self.eta = eta\n",
    "        self.n_iter=n_iter\n",
    "        self.C=C\n",
    "    \n",
    "    def fit(self, X, y):\n",
    "        self.w=np.zeros(1+X.shape[0])\n",
    "        \n",
    "        for i in range(self.n_iter):\n",
    "            self.w[1:] += X.shape[1]*self.eta*(X*y).dot(self.activation(X,y))# - self.eta*self.C*self.w[1:]\n",
    "            self.w[0] += X.shape[1]*self.eta*y.dot(self.activation(X,y))# - self.eta*self.C*self.w[0]\n",
    "    \n",
    "    def f(self, X):\n",
    "        return(np.dot(self.w[1:],X)+self.w[0])\n",
    "    \n",
    "    def activation(self, X, y):\n",
    "        return 1-(1/(1+np.exp(-self.f(X)*y)))\n",
    "    \n",
    "    def sigm(self, X):\n",
    "        return 1/(1+np.exp(-self.f(X)))\n",
    "    \n",
    "    def predict(self, X):\n",
    "        return np.where(self.sigm(X)>=0.5, 1, 0)"
   ]
  },
  {
   "cell_type": "markdown",
   "metadata": {},
   "source": [
    "$$\n",
    "\\begin{pmatrix}\n",
    "x_{11}y_1&x_{12}y_2&...&x_{1n}y_n\\\\\n",
    "x_{21}y_1&x_{22}y_2&...&x_{2n}y_n\\\\\n",
    "\\end{pmatrix} \n",
    "\\times\n",
    "\\begin{pmatrix}\n",
    "sig_1\\\\\n",
    "sig_2\\\\\n",
    "...\\\\\n",
    "sig_n\n",
    "\\end{pmatrix}\n",
    "=\n",
    "\\begin{pmatrix}\n",
    "x_{11}y_1sig_1+x_{12}y_2sig_2+...+x_{1n}y_nsig_n\\\\\n",
    "x_{21}y_1sig_1+x_{22}y_2sig_2+...+x_{2n}y_nsig_n\\\\\n",
    "\\end{pmatrix}\n",
    "$$\n"
   ]
  },
  {
   "cell_type": "code",
   "execution_count": 118,
   "metadata": {},
   "outputs": [],
   "source": [
    "clf=LogReg()"
   ]
  },
  {
   "cell_type": "code",
   "execution_count": 119,
   "metadata": {
    "scrolled": true
   },
   "outputs": [],
   "source": [
    "clf.fit(X,y)"
   ]
  },
  {
   "cell_type": "code",
   "execution_count": 120,
   "metadata": {},
   "outputs": [
    {
     "data": {
      "text/plain": [
       "array([0, 1, 0, 0, 0, 0, 0, 0, 0, 0, 0, 0, 0, 0, 0, 0, 0, 0, 0, 0, 1, 1,\n",
       "       1, 1, 1, 1, 1, 1, 1, 1, 1, 1, 1, 1, 1, 1, 1, 1, 1, 1])"
      ]
     },
     "execution_count": 120,
     "metadata": {},
     "output_type": "execute_result"
    }
   ],
   "source": [
    "clf.predict(X)"
   ]
  },
  {
   "cell_type": "code",
   "execution_count": 121,
   "metadata": {},
   "outputs": [],
   "source": [
    "yy=[]\n",
    "for x1 in XX[0]:\n",
    "    for x2 in XX[1]:\n",
    "        if clf.predict([x1,x2]) == 1:\n",
    "            yy.append([x1,x2])\n",
    "            break\n",
    "yy=np.array(yy[:800]).T"
   ]
  },
  {
   "cell_type": "code",
   "execution_count": 122,
   "metadata": {},
   "outputs": [
    {
     "data": {
      "text/plain": [
       "Text(0, 0.5, '$x_2$')"
      ]
     },
     "execution_count": 122,
     "metadata": {},
     "output_type": "execute_result"
    },
    {
     "data": {
      "image/png": "[encoded data removed]",
      "text/plain": [
       "<Figure size 432x288 with 1 Axes>"
      ]
     },
     "metadata": {
      "needs_background": "light"
     },
     "output_type": "display_data"
    }
   ],
   "source": [
    "fig, ax = plt.subplots()\n",
    "ax.scatter(x_1[:20], x_2[:20], c = [[0.1, 0.63, 0.55]], label='-1')\n",
    "ax.scatter(x_1[20:], x_2[20:], c = '#ad09a3', label='1')\n",
    "ax.legend()\n",
    "plt.plot(yy[0],yy[1], linestyle = '--', c='red')\n",
    "ax.set_xlabel('$x_1$')\n",
    "ax.set_ylabel('$x_2$')"
   ]
  },
  {
   "cell_type": "code",
   "execution_count": null,
   "metadata": {},
   "outputs": [],
   "source": []
  }
 ],
 "metadata": {
  "kernelspec": {
   "display_name": "Python 3 (ipykernel)",
   "language": "python",
   "name": "python3"
  },
  "language_info": {
   "codemirror_mode": {
    "name": "ipython",
    "version": 3
   },
   "file_extension": ".py",
   "mimetype": "text/x-python",
   "name": "python",
   "nbconvert_exporter": "python",
   "pygments_lexer": "ipython3",
   "version": "3.9.7"
  }
 },
 "nbformat": 4,
 "nbformat_minor": 4
}
